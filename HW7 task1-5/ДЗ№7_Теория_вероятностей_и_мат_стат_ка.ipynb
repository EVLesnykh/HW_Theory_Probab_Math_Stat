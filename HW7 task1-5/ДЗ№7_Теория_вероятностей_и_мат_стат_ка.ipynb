{
  "nbformat": 4,
  "nbformat_minor": 0,
  "metadata": {
    "colab": {
      "provenance": []
    },
    "kernelspec": {
      "name": "python3",
      "display_name": "Python 3"
    },
    "language_info": {
      "name": "python"
    }
  },
  "cells": [
    {
      "cell_type": "code",
      "source": [
        "import numpy as np\n",
        "import scipy.stats as stats"
      ],
      "metadata": {
        "id": "oyZOA8EYQRRz"
      },
      "execution_count": 1,
      "outputs": []
    },
    {
      "cell_type": "markdown",
      "source": [
        "1-4 задачи решать с помощью функций, 5ю вручную<br>\n",
        "Выбрать тест и проверить, есть  ли различия между выборками:<br>\n",
        "\n",
        "**Задача 1.** Даны две  независимые выборки. Не соблюдается условие нормальности<br>\n",
        "x1  380,420, 290<br>\n",
        "y1 140,360,200,900<br>\n",
        "\n",
        "Сделайте вывод по результатам, полученным с помощью функции<br>"
      ],
      "metadata": {
        "id": "ZYcRqpF0MJpQ"
      }
    },
    {
      "cell_type": "markdown",
      "source": [
        "Для решения данной задачи выбираем критерий Манна-Уитни"
      ],
      "metadata": {
        "id": "suEN3bIkVJjf"
      }
    },
    {
      "cell_type": "code",
      "execution_count": 5,
      "metadata": {
        "id": "Nx0EzPEZLUVb"
      },
      "outputs": [],
      "source": [
        "alpha = 0.05\n",
        "x1 = np.array([380, 420, 290])\n",
        "y1 = np.array([140, 360, 200, 900])"
      ]
    },
    {
      "cell_type": "code",
      "source": [
        "stats.mannwhitneyu(x1, y1)\n"
      ],
      "metadata": {
        "colab": {
          "base_uri": "https://localhost:8080/"
        },
        "id": "IaayupnnR9OJ",
        "outputId": "581178ac-27e6-471f-be65-e997e5a35e77"
      },
      "execution_count": 6,
      "outputs": [
        {
          "output_type": "execute_result",
          "data": {
            "text/plain": [
              "MannwhitneyuResult(statistic=8.0, pvalue=0.6285714285714286)"
            ]
          },
          "metadata": {},
          "execution_count": 6
        }
      ]
    },
    {
      "cell_type": "markdown",
      "source": [
        "**Ответ:** Так как pvalue > alpha, то это дает нам право сделать выбор в пользу нулевой гипотезы H0, статистически значимых отличий нет."
      ],
      "metadata": {
        "id": "zyRAclnkSQUH"
      }
    },
    {
      "cell_type": "markdown",
      "source": [
        "**Задача 2.**  Исследовалось влияние препарата на уровень давления пациентов. Сначала измерялось давление до приема препарата, потом через 10 минут и через 30 минут. Есть ли статистически значимые различия?<br>\n",
        "\n",
        "1е измерение до приема препарата: 150, 160, 165, 145, 155<br>\n",
        "2е измерение через 10 минут: 140, 155, 150,  130, 135<br>\n",
        "3е измерение через 30 минут: 130, 130, 120, 130, 125<br>"
      ],
      "metadata": {
        "id": "f-3BrfVSOFtX"
      }
    },
    {
      "cell_type": "markdown",
      "source": [
        "Для решения данной задачи выбираем критерий Фридмана"
      ],
      "metadata": {
        "id": "jT1IZmpTVUd0"
      }
    },
    {
      "cell_type": "code",
      "source": [
        "alpha = 0.05\n",
        "x1 = np.array([150, 160, 165, 145, 155])\n",
        "x2 = np.array([140, 155, 150, 130, 135])\n",
        "x3 = np.array([130, 130, 120, 130, 125])"
      ],
      "metadata": {
        "id": "hJEMdcBwOhKf"
      },
      "execution_count": 9,
      "outputs": []
    },
    {
      "cell_type": "code",
      "source": [
        "stats.friedmanchisquare(x1, x2, x3)"
      ],
      "metadata": {
        "colab": {
          "base_uri": "https://localhost:8080/"
        },
        "id": "PO0fFOtaUuIB",
        "outputId": "f683a70d-80ca-40b5-bc98-169acceb4bed"
      },
      "execution_count": 11,
      "outputs": [
        {
          "output_type": "execute_result",
          "data": {
            "text/plain": [
              "FriedmanchisquareResult(statistic=9.578947368421062, pvalue=0.00831683351100441)"
            ]
          },
          "metadata": {},
          "execution_count": 11
        }
      ]
    },
    {
      "cell_type": "markdown",
      "source": [
        "**Ответ:** Так как pvalue < alpha, то это дает нам право сделать выбор в пользу H1 гипотезы, H0 гипотеза отвергается, есть статистически значимые отличия"
      ],
      "metadata": {
        "id": "WIn1P1ezVl-e"
      }
    },
    {
      "cell_type": "markdown",
      "source": [
        "**Задача 3.** Сравните 1 и 2е измерения, предполагая, что 3го измерения через 30 минут не было."
      ],
      "metadata": {
        "id": "aNyDIzRDOjkP"
      }
    },
    {
      "cell_type": "markdown",
      "source": [
        "Для решения данной задачи выбираем критерий Уилкоксона"
      ],
      "metadata": {
        "id": "aUKyI0XjZ6cA"
      }
    },
    {
      "cell_type": "code",
      "source": [
        "alpha = 0.05\n",
        "x1 = np.array([150, 160, 165, 145, 155])\n",
        "x2 = np.array([140, 155, 150, 130, 135])"
      ],
      "metadata": {
        "id": "lHMrwwgyPhZC"
      },
      "execution_count": 16,
      "outputs": []
    },
    {
      "cell_type": "code",
      "source": [
        "stats.wilcoxon(x1, x2)"
      ],
      "metadata": {
        "colab": {
          "base_uri": "https://localhost:8080/"
        },
        "id": "1zaZs5kYaEXQ",
        "outputId": "d1858d07-940a-4541-d5fe-ac00dc8eb0ff"
      },
      "execution_count": 17,
      "outputs": [
        {
          "output_type": "execute_result",
          "data": {
            "text/plain": [
              "WilcoxonResult(statistic=0.0, pvalue=0.0625)"
            ]
          },
          "metadata": {},
          "execution_count": 17
        }
      ]
    },
    {
      "cell_type": "markdown",
      "source": [
        "**Ответ:** Так как pvalue > alpha, то это дает нам право сделать выбор в пользу нулевой гипотезы H0, статистически значимых отличий нет."
      ],
      "metadata": {
        "id": "KrioZODKaPSX"
      }
    },
    {
      "cell_type": "markdown",
      "source": [
        "**Задача 4.** Даны 3 группы  учеников плавания.<br>\n",
        "В 1 группе время на дистанцию 50 м составляют:<br>\n",
        "56, 60, 62, 55, 71, 67, 59, 58, 64, 67<br>\n",
        "\n",
        "Вторая группа : 57, 58, 69, 48, 72, 70, 68, 71, 50, 53<br>\n",
        "Третья группа: 57, 67, 49, 48, 47, 55, 66, 51, 54<br>\n"
      ],
      "metadata": {
        "id": "HMrYUbQ7O0HI"
      }
    },
    {
      "cell_type": "markdown",
      "source": [
        "Для решения данной задачи выбираем критерий Крускала-Уоллиса"
      ],
      "metadata": {
        "id": "unUjaeHIbeBM"
      }
    },
    {
      "cell_type": "code",
      "source": [
        "alpha = 0.05\n",
        "x1 = np.array([56, 60, 62, 55, 71, 67, 59, 58, 64, 67])\n",
        "x2 = np.array([57, 58, 69, 48, 72, 70, 68, 71, 50, 53])\n",
        "x3 = np.array([57, 67, 49, 48, 47, 55, 66, 51, 54])"
      ],
      "metadata": {
        "id": "q4YvtI2OP1oF"
      },
      "execution_count": 18,
      "outputs": []
    },
    {
      "cell_type": "code",
      "source": [
        "stats.kruskal(x1, x2, x3)"
      ],
      "metadata": {
        "colab": {
          "base_uri": "https://localhost:8080/"
        },
        "id": "UHkQb88xbNH-",
        "outputId": "52462f44-454c-4e42-d816-203afafa9a4e"
      },
      "execution_count": 19,
      "outputs": [
        {
          "output_type": "execute_result",
          "data": {
            "text/plain": [
              "KruskalResult(statistic=5.465564058257224, pvalue=0.0650380998590494)"
            ]
          },
          "metadata": {},
          "execution_count": 19
        }
      ]
    },
    {
      "cell_type": "markdown",
      "source": [
        "**Ответ:** Так как pvalue > alpha, то это дает нам право сделать выбор в пользу нулевой гипотезы H0, статистически значимых отличий нет."
      ],
      "metadata": {
        "id": "Gza6LrdXbSSp"
      }
    },
    {
      "cell_type": "markdown",
      "source": [
        "**Задача 5.** Заявляется, что партия изготавливается со средним арифметическим 2,5 см. Проверить данную гипотезу, если известно, что размеры изделий подчинены нормальному закону распределения. Объем выборки 10, уровень статистической значимости 5%.<br>\n",
        "\n",
        "2.51, 2.35, 2.74, 2.56, 2.40, 2.36, 2.65, 2.7, 2.67, 2.34"
      ],
      "metadata": {
        "id": "U8Z2WG77P1wd"
      }
    },
    {
      "cell_type": "code",
      "source": [
        "X = np.array([2.51, 2.35, 2.74, 2.56, 2.40, 2.36, 2.65, 2.7, 2.67, 2.34])\n",
        "alpha = 0.05\n",
        "n = 10\n",
        "mu = 2.5"
      ],
      "metadata": {
        "id": "LbFcPC56QDcl"
      },
      "execution_count": 31,
      "outputs": []
    },
    {
      "cell_type": "markdown",
      "source": [
        "Так как неизвестна $\\sigma$ генеральной совокупности, то для проверки гипотезы будем использовать t-критерий: <br>\n",
        "$$ t = \\dfrac{Xср - μ}{\\sigmaн / \\sqrt{n}} $$"
      ],
      "metadata": {
        "id": "SfhPuXWwl2Nx"
      }
    },
    {
      "cell_type": "code",
      "source": [
        "mean = np.mean(X)\n",
        "print(mean)"
      ],
      "metadata": {
        "colab": {
          "base_uri": "https://localhost:8080/"
        },
        "id": "Gcl8ijO4iQgu",
        "outputId": "0a3359c1-d54f-48f4-d2e1-e8646c8fbbc9"
      },
      "execution_count": 33,
      "outputs": [
        {
          "output_type": "stream",
          "name": "stdout",
          "text": [
            "2.5279999999999996\n"
          ]
        }
      ]
    },
    {
      "cell_type": "code",
      "source": [
        "sigma = np.std(X,ddof=1)\n",
        "print(sigma)"
      ],
      "metadata": {
        "colab": {
          "base_uri": "https://localhost:8080/"
        },
        "id": "wYMrgl7-moAU",
        "outputId": "8965bd52-a82e-4a15-f5ca-10e00370d089"
      },
      "execution_count": 36,
      "outputs": [
        {
          "output_type": "stream",
          "name": "stdout",
          "text": [
            "0.1572542173961923\n"
          ]
        }
      ]
    },
    {
      "cell_type": "code",
      "source": [
        "t_X = (mean - mu)/(sigma/np.sqrt(n))\n",
        "print(t_X)"
      ],
      "metadata": {
        "colab": {
          "base_uri": "https://localhost:8080/"
        },
        "id": "CTdHy1C7iTru",
        "outputId": "b3d35af1-1ca2-4aff-df83-e063c0b235d2"
      },
      "execution_count": 41,
      "outputs": [
        {
          "output_type": "stream",
          "name": "stdout",
          "text": [
            "0.5630613661802959\n"
          ]
        }
      ]
    },
    {
      "cell_type": "markdown",
      "source": [
        "Табличное значение t-критерия  tтабл.= 2.2622, расчётное tрасч. = 0.56"
      ],
      "metadata": {
        "id": "4PfmPnC-n1JL"
      }
    },
    {
      "cell_type": "markdown",
      "source": [
        "**Ответ:** Так как tтабл. > tрасч., то принимаем нулевую гипотезу H0"
      ],
      "metadata": {
        "id": "rsNJ5ocloDMC"
      }
    }
  ]
}