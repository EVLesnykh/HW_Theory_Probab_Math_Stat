{
  "nbformat": 4,
  "nbformat_minor": 0,
  "metadata": {
    "colab": {
      "provenance": []
    },
    "kernelspec": {
      "name": "python3",
      "display_name": "Python 3"
    },
    "language_info": {
      "name": "python"
    }
  },
  "cells": [
    {
      "cell_type": "code",
      "source": [
        "import numpy as np"
      ],
      "metadata": {
        "id": "K99_ZiM_zg9L"
      },
      "execution_count": 6,
      "outputs": []
    },
    {
      "cell_type": "code",
      "source": [
        "import scipy.stats as stats"
      ],
      "metadata": {
        "id": "5VROxIwBaQN6"
      },
      "execution_count": 7,
      "outputs": []
    },
    {
      "cell_type": "markdown",
      "source": [
        "**Задача №1.** Известно, что генеральная совокупность распределена нормально со средним квадратическим отклонением, равным 16. Найти доверительный интервал для оценки математического ожидания с надежностью 0.95, если выборочная средняя M = 80, а объем выборки n = 256."
      ],
      "metadata": {
        "id": "Xw-nHa1emkPH"
      }
    },
    {
      "cell_type": "markdown",
      "source": [
        " Уровень значимости α = 1 - 0.95 = 0.05\n",
        "\n"
      ],
      "metadata": {
        "id": "lCcszVDPABAN"
      }
    },
    {
      "cell_type": "code",
      "source": [
        "sigma = 16\n",
        "X = 80\n",
        "n = 256\n",
        "alpha = 0.05"
      ],
      "metadata": {
        "id": "rIV9Ll5u-Rfa"
      },
      "execution_count": 12,
      "outputs": []
    },
    {
      "cell_type": "markdown",
      "source": [
        "Так как известна $\\sigma$ генеральной совокупности выбираем Z-критерий"
      ],
      "metadata": {
        "id": "1ZBecnE0eFZ9"
      }
    },
    {
      "cell_type": "markdown",
      "source": [
        "Определим табличный Z-критерий:"
      ],
      "metadata": {
        "id": "A68jfd4hAobi"
      }
    },
    {
      "cell_type": "code",
      "source": [
        "Z = round((stats.norm.ppf(alpha/2)), 2)"
      ],
      "metadata": {
        "id": "ieYGvMYfATaZ"
      },
      "execution_count": 43,
      "outputs": []
    },
    {
      "cell_type": "code",
      "source": [
        "Z"
      ],
      "metadata": {
        "colab": {
          "base_uri": "https://localhost:8080/"
        },
        "id": "F0xRYIHDCFWK",
        "outputId": "66aab5ae-918a-4e63-f02e-96a4c679772e"
      },
      "execution_count": 44,
      "outputs": [
        {
          "output_type": "execute_result",
          "data": {
            "text/plain": [
              "-1.96"
            ]
          },
          "metadata": {},
          "execution_count": 44
        }
      ]
    },
    {
      "cell_type": "code",
      "source": [
        "interval_1 = X + Z * (sigma / n**0.5)"
      ],
      "metadata": {
        "id": "UzNSHSqlCgNb"
      },
      "execution_count": 20,
      "outputs": []
    },
    {
      "cell_type": "code",
      "source": [
        "interval_1"
      ],
      "metadata": {
        "colab": {
          "base_uri": "https://localhost:8080/"
        },
        "id": "X1aVFwQ_CyDb",
        "outputId": "f887ccad-69b7-4499-8410-fdbc908cc209"
      },
      "execution_count": 22,
      "outputs": [
        {
          "output_type": "execute_result",
          "data": {
            "text/plain": [
              "78.04"
            ]
          },
          "metadata": {},
          "execution_count": 22
        }
      ]
    },
    {
      "cell_type": "code",
      "source": [
        "interval_2 = X - Z * (sigma / n**0.5)"
      ],
      "metadata": {
        "id": "zE_VCc2VCsW_"
      },
      "execution_count": 21,
      "outputs": []
    },
    {
      "cell_type": "code",
      "source": [
        "interval_2"
      ],
      "metadata": {
        "colab": {
          "base_uri": "https://localhost:8080/"
        },
        "id": "Wr816RSUCz7I",
        "outputId": "4b8281ea-a828-4b7f-b85f-b5bd6fb7df6b"
      },
      "execution_count": 23,
      "outputs": [
        {
          "output_type": "execute_result",
          "data": {
            "text/plain": [
              "81.96"
            ]
          },
          "metadata": {},
          "execution_count": 23
        }
      ]
    },
    {
      "cell_type": "markdown",
      "source": [
        "**Ответ:** Доверительный интервал для математического ожидания с надежностью 0,95 составляет: [78.04; 81.96]"
      ],
      "metadata": {
        "id": "MT9p6dScDAmJ"
      }
    },
    {
      "cell_type": "markdown",
      "source": [
        "**Задача №2.** В результате 10 независимых измерений некоторой величины X, выполненных с одинаковой точностью, получены опытные данные: 6.9, 6.1, 6.2, 6.8, 7.5, 6.3, 6.4, 6.9, 6.7, 6.1. Предполагая, что результаты измерений подчинены нормальному закону распределения вероятностей, оценить истинное значение величины X при помощи доверительного интервала, покрывающего это значение с доверительной вероятностью 0,95."
      ],
      "metadata": {
        "id": "ZMwCRGh1mkaA"
      }
    },
    {
      "cell_type": "markdown",
      "source": [
        " Уровень значимости α = 1 - 0.95 = 0.05"
      ],
      "metadata": {
        "id": "vlUdJwLdHCx5"
      }
    },
    {
      "cell_type": "code",
      "source": [
        "alpha = 0.05\n",
        "array=np.array([6.9, 6.1, 6.2, 6.8, 7.5, 6.3, 6.4, 6.9, 6.7, 6.1])"
      ],
      "metadata": {
        "id": "UuR_DCWjHGZY"
      },
      "execution_count": 9,
      "outputs": []
    },
    {
      "cell_type": "code",
      "source": [
        "n = len(array)"
      ],
      "metadata": {
        "id": "JttoBeXUUEA_"
      },
      "execution_count": 10,
      "outputs": []
    },
    {
      "cell_type": "code",
      "source": [
        "n"
      ],
      "metadata": {
        "colab": {
          "base_uri": "https://localhost:8080/"
        },
        "id": "3upmtmLwUGX-",
        "outputId": "f6e6c772-d716-4b48-de8c-178eb0441e56"
      },
      "execution_count": 11,
      "outputs": [
        {
          "output_type": "execute_result",
          "data": {
            "text/plain": [
              "10"
            ]
          },
          "metadata": {},
          "execution_count": 11
        }
      ]
    },
    {
      "cell_type": "markdown",
      "source": [
        "Определим среднее значение выборки:"
      ],
      "metadata": {
        "id": "4x8xVC8cgtAZ"
      }
    },
    {
      "cell_type": "code",
      "source": [
        "X = round((np.mean(array)), 2)"
      ],
      "metadata": {
        "id": "IBjH7ZTkTdSj"
      },
      "execution_count": 33,
      "outputs": []
    },
    {
      "cell_type": "code",
      "source": [
        "X"
      ],
      "metadata": {
        "colab": {
          "base_uri": "https://localhost:8080/"
        },
        "id": "sKORyXBjWEs2",
        "outputId": "0b6c1789-20aa-4d57-c4fc-a34c8e0d5b43"
      },
      "execution_count": 34,
      "outputs": [
        {
          "output_type": "execute_result",
          "data": {
            "text/plain": [
              "6.59"
            ]
          },
          "metadata": {},
          "execution_count": 34
        }
      ]
    },
    {
      "cell_type": "markdown",
      "source": [
        "Так как не известна $\\sigma$ генеральной совокупности выбираем t-критерий (критерий Стьюдента)"
      ],
      "metadata": {
        "id": "PhRGplXre45G"
      }
    },
    {
      "cell_type": "markdown",
      "source": [
        "Определим стандартное несмещенное отклонение:"
      ],
      "metadata": {
        "id": "iaCj58tTWqdm"
      }
    },
    {
      "cell_type": "code",
      "source": [
        "sigma_std = round((np.std(array, ddof=1)), 2)"
      ],
      "metadata": {
        "id": "a_hCyc0bWwgd"
      },
      "execution_count": 14,
      "outputs": []
    },
    {
      "cell_type": "code",
      "source": [
        "sigma_std"
      ],
      "metadata": {
        "colab": {
          "base_uri": "https://localhost:8080/"
        },
        "id": "I7oBW3ajWyqz",
        "outputId": "0d273022-11e4-4216-c234-09ebfd3a072e"
      },
      "execution_count": 15,
      "outputs": [
        {
          "output_type": "execute_result",
          "data": {
            "text/plain": [
              "0.45"
            ]
          },
          "metadata": {},
          "execution_count": 15
        }
      ]
    },
    {
      "cell_type": "code",
      "source": [
        "t=round((stats.t.ppf(1-alpha/2,df=n-1)), 2)"
      ],
      "metadata": {
        "id": "DUBuNI0Vd2QZ"
      },
      "execution_count": 21,
      "outputs": []
    },
    {
      "cell_type": "code",
      "source": [
        "t"
      ],
      "metadata": {
        "colab": {
          "base_uri": "https://localhost:8080/"
        },
        "id": "cji6Vlf7fhwc",
        "outputId": "7560414c-e223-4806-8fc9-e1b708bbb8a2"
      },
      "execution_count": 22,
      "outputs": [
        {
          "output_type": "execute_result",
          "data": {
            "text/plain": [
              "2.26"
            ]
          },
          "metadata": {},
          "execution_count": 22
        }
      ]
    },
    {
      "cell_type": "code",
      "source": [
        "interval_1 = round((X - t * (sigma_std / n**0.5)), 2)\n"
      ],
      "metadata": {
        "id": "-aPUa7ydG6RS"
      },
      "execution_count": 35,
      "outputs": []
    },
    {
      "cell_type": "code",
      "source": [
        "interval_1"
      ],
      "metadata": {
        "colab": {
          "base_uri": "https://localhost:8080/"
        },
        "id": "C4hfpMlAh7TH",
        "outputId": "428f35ec-fa4b-4755-eebb-63af01fe6c6a"
      },
      "execution_count": 36,
      "outputs": [
        {
          "output_type": "execute_result",
          "data": {
            "text/plain": [
              "6.27"
            ]
          },
          "metadata": {},
          "execution_count": 36
        }
      ]
    },
    {
      "cell_type": "code",
      "source": [
        "interval_2= round((X + t * (sigma_std / n**0.5)), 2)"
      ],
      "metadata": {
        "id": "cGcBYcIKiUyi"
      },
      "execution_count": 38,
      "outputs": []
    },
    {
      "cell_type": "code",
      "source": [
        "interval_2"
      ],
      "metadata": {
        "colab": {
          "base_uri": "https://localhost:8080/"
        },
        "id": "eEemKRQAibdq",
        "outputId": "442b0c8b-d5f2-451b-d7f5-ebb2a20bb117"
      },
      "execution_count": 39,
      "outputs": [
        {
          "output_type": "execute_result",
          "data": {
            "text/plain": [
              "6.91"
            ]
          },
          "metadata": {},
          "execution_count": 39
        }
      ]
    },
    {
      "cell_type": "markdown",
      "source": [
        "**Ответ:** Доверительный интервал, помогающий оценить истинное значение величины Х, покрывающего это значение с доверительной вероятностью 0,95 следующий: [6.27; 6.91]\n"
      ],
      "metadata": {
        "id": "Mkx6wQL1kr-H"
      }
    },
    {
      "cell_type": "markdown",
      "source": [
        "**Задача №3.** Рост дочерей 175, 167, 154, 174, 178, 148, 160, 167, 169, 170. <br> Рост матерей  178, 165, 165, 173, 168, 155, 160, 164, 178, 175. <br>\n",
        "Используя эти данные построить 95% доверительный интервал для разности среднего роста родителей и детей."
      ],
      "metadata": {
        "id": "x39NsbUapiva"
      }
    },
    {
      "cell_type": "markdown",
      "source": [
        " Уровень значимости α = 1 - 0.95 = 0.05"
      ],
      "metadata": {
        "id": "BfjpBmnNv_fx"
      }
    },
    {
      "cell_type": "code",
      "source": [
        "alpha = 0.05\n",
        "array_1 = np.array([175, 167, 154, 174, 178, 148, 160, 167, 169, 170])\n",
        "array_2 = np.array([178, 165, 165, 173, 168, 155, 160, 164, 178, 175])"
      ],
      "metadata": {
        "id": "mXZpukyWDWOV"
      },
      "execution_count": 68,
      "outputs": []
    },
    {
      "cell_type": "markdown",
      "source": [
        "Определим среднее значение выборки:"
      ],
      "metadata": {
        "id": "mSijmK2ApzNB"
      }
    },
    {
      "cell_type": "code",
      "source": [
        "X_1 = round((np.mean(array_1)), 2)\n",
        "print(X_1)\n"
      ],
      "metadata": {
        "colab": {
          "base_uri": "https://localhost:8080/"
        },
        "id": "7mlMCB9Lp6q9",
        "outputId": "a0896184-f0b6-462f-b41e-e2a3b4160896"
      },
      "execution_count": 77,
      "outputs": [
        {
          "output_type": "stream",
          "name": "stdout",
          "text": [
            "166.2\n"
          ]
        }
      ]
    },
    {
      "cell_type": "code",
      "source": [
        "X_2 = round((np.mean(array_2)), 2)\n",
        "print(X_2)"
      ],
      "metadata": {
        "colab": {
          "base_uri": "https://localhost:8080/"
        },
        "id": "PdDnHTZpp6yR",
        "outputId": "2ef56cc7-eaef-4041-84f0-02fe42e00f36"
      },
      "execution_count": 70,
      "outputs": [
        {
          "output_type": "stream",
          "name": "stdout",
          "text": [
            "168.1\n"
          ]
        }
      ]
    },
    {
      "cell_type": "code",
      "source": [
        "delta = round((X_1 - X_2), 2)\n",
        "print(delta)"
      ],
      "metadata": {
        "colab": {
          "base_uri": "https://localhost:8080/"
        },
        "id": "8lrLSkMUrx2L",
        "outputId": "94a0597a-0477-4374-c471-294120064845"
      },
      "execution_count": 71,
      "outputs": [
        {
          "output_type": "stream",
          "name": "stdout",
          "text": [
            "-1.9\n"
          ]
        }
      ]
    },
    {
      "cell_type": "code",
      "source": [
        "n_1 = len(array_1)\n",
        "print(n_1)"
      ],
      "metadata": {
        "colab": {
          "base_uri": "https://localhost:8080/"
        },
        "id": "4-WEXyTRrDCE",
        "outputId": "b635c30c-7880-400b-c1d7-9b507f33eb19"
      },
      "execution_count": 72,
      "outputs": [
        {
          "output_type": "stream",
          "name": "stdout",
          "text": [
            "10\n"
          ]
        }
      ]
    },
    {
      "cell_type": "code",
      "source": [
        "n_2 = len(array_2)\n",
        "print(n_2)"
      ],
      "metadata": {
        "colab": {
          "base_uri": "https://localhost:8080/"
        },
        "id": "xfP1-KKlrDUb",
        "outputId": "a0b1401e-5772-46b9-ed56-e6e8dee8e6fa"
      },
      "execution_count": 73,
      "outputs": [
        {
          "output_type": "stream",
          "name": "stdout",
          "text": [
            "10\n"
          ]
        }
      ]
    },
    {
      "cell_type": "markdown",
      "source": [
        "Определим несмещенную дисперсию выборки Х:"
      ],
      "metadata": {
        "id": "xyD-Zd8wrbw7"
      }
    },
    {
      "cell_type": "code",
      "source": [
        "D_1 = round((np.var(array_1, ddof=1)), 2)\n",
        "print(D_1)"
      ],
      "metadata": {
        "colab": {
          "base_uri": "https://localhost:8080/"
        },
        "id": "sa-_7WWGssP1",
        "outputId": "eed02f0e-5a89-47c6-c58f-f27f2693deb7"
      },
      "execution_count": 83,
      "outputs": [
        {
          "output_type": "stream",
          "name": "stdout",
          "text": [
            "91.07\n"
          ]
        }
      ]
    },
    {
      "cell_type": "code",
      "source": [
        "D_2 = round((np.var(array_2, ddof=1)), 2)\n",
        "print(D_2)"
      ],
      "metadata": {
        "colab": {
          "base_uri": "https://localhost:8080/"
        },
        "id": "1imZhJE6sz0N",
        "outputId": "976252a9-2ab2-4251-9696-ae5b75113b92"
      },
      "execution_count": 85,
      "outputs": [
        {
          "output_type": "stream",
          "name": "stdout",
          "text": [
            "60.1\n"
          ]
        }
      ]
    },
    {
      "cell_type": "markdown",
      "source": [
        "Объединённая оценка дисперсии D (среднее арифметическое дисперсии):"
      ],
      "metadata": {
        "id": "rWNAHjalvbpX"
      }
    },
    {
      "cell_type": "code",
      "source": [
        "D = round(((D_1+D_2)/2), 2)\n",
        "print(D)"
      ],
      "metadata": {
        "colab": {
          "base_uri": "https://localhost:8080/"
        },
        "id": "V1yxNyJayK3s",
        "outputId": "b2fefb0a-ebbd-4b89-d4cc-39fe7f6a1c71"
      },
      "execution_count": 93,
      "outputs": [
        {
          "output_type": "stream",
          "name": "stdout",
          "text": [
            "75.58\n"
          ]
        }
      ]
    },
    {
      "cell_type": "markdown",
      "source": [
        "Стандартная ошибка разности средних SE:"
      ],
      "metadata": {
        "id": "4jRBjkPazF5E"
      }
    },
    {
      "cell_type": "code",
      "source": [
        "SE = np.sqrt(D/n_1 + D/n_2)\n",
        "print(round(SE, 2))"
      ],
      "metadata": {
        "colab": {
          "base_uri": "https://localhost:8080/"
        },
        "id": "9bKo7QfEzSjD",
        "outputId": "5a72a766-34fb-42a7-d70e-f1e43225d1f1"
      },
      "execution_count": 92,
      "outputs": [
        {
          "output_type": "stream",
          "name": "stdout",
          "text": [
            "3.89\n"
          ]
        }
      ]
    },
    {
      "cell_type": "code",
      "source": [
        "t=stats.t.ppf(1-alpha/2,df=n_1 + n_2-2)\n",
        "print(round(t, 2))"
      ],
      "metadata": {
        "colab": {
          "base_uri": "https://localhost:8080/"
        },
        "id": "2D7OjUEIyixW",
        "outputId": "81e3fec5-cd53-47cf-9387-48a57eff0a70"
      },
      "execution_count": 99,
      "outputs": [
        {
          "output_type": "stream",
          "name": "stdout",
          "text": [
            "2.1\n"
          ]
        }
      ]
    },
    {
      "cell_type": "markdown",
      "source": [
        "Доверительный интервал:"
      ],
      "metadata": {
        "id": "NVpMOIOa0ly0"
      }
    },
    {
      "cell_type": "code",
      "source": [
        "interval_1 = delta - t*SE\n",
        "print(round(interval_1, 2))"
      ],
      "metadata": {
        "colab": {
          "base_uri": "https://localhost:8080/"
        },
        "id": "qmdTbtK50q9G",
        "outputId": "22ac7895-a886-4a24-e82c-f3621de7f91a"
      },
      "execution_count": 100,
      "outputs": [
        {
          "output_type": "stream",
          "name": "stdout",
          "text": [
            "-10.07\n"
          ]
        }
      ]
    },
    {
      "cell_type": "code",
      "source": [
        "interval_2 = delta + t*SE\n",
        "print(round(interval_2, 2))"
      ],
      "metadata": {
        "colab": {
          "base_uri": "https://localhost:8080/"
        },
        "id": "id9gx4Wc1ETn",
        "outputId": "333f21da-73ad-4477-dccf-28196dcb14b4"
      },
      "execution_count": 101,
      "outputs": [
        {
          "output_type": "stream",
          "name": "stdout",
          "text": [
            "6.27\n"
          ]
        }
      ]
    },
    {
      "cell_type": "markdown",
      "source": [
        "**Ответ:** 95% доверительный интервал для разности среднего роста родителей и детей следующий: [-10.07, 6.27]"
      ],
      "metadata": {
        "id": "KuuvwXWD1QPa"
      }
    }
  ]
}