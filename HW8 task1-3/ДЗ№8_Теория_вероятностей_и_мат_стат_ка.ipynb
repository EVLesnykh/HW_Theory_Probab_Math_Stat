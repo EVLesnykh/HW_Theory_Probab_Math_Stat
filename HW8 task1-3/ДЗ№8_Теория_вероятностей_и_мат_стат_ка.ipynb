{
  "nbformat": 4,
  "nbformat_minor": 0,
  "metadata": {
    "colab": {
      "provenance": []
    },
    "kernelspec": {
      "name": "python3",
      "display_name": "Python 3"
    },
    "language_info": {
      "name": "python"
    }
  },
  "cells": [
    {
      "cell_type": "code",
      "source": [
        "import numpy as np\n",
        "import pandas as pd\n",
        "import scipy.stats as stats"
      ],
      "metadata": {
        "id": "xGn9SSje44_I"
      },
      "execution_count": null,
      "outputs": []
    },
    {
      "cell_type": "markdown",
      "source": [
        "**Задание №1.** Даны значения величины заработной платы заемщиков банка (zp) и значения их поведенческого кредитного скоринга (ks): zp = [35, 45, 190, 200, 40, 70, 54, 150, 120, 110], ks = [401, 574, 874, 919, 459, 739, 653, 902, 746, 832]. Найдите ковариацию этих двух величин с помощью элементарных действий, а затем с помощью функции cov из numpy Полученные значения должны быть равны. Найдите коэффициент корреляции Пирсона с помощью ковариации и среднеквадратичных отклонений двух признаков, а затем с использованием функций из библиотек numpy и pandas."
      ],
      "metadata": {
        "id": "yIf_x3Lw35mK"
      }
    },
    {
      "cell_type": "code",
      "execution_count": null,
      "metadata": {
        "id": "McTHV4Vw3emj"
      },
      "outputs": [],
      "source": [
        "zp = np.array([35, 45, 190, 200, 40, 70, 54, 150, 120, 110])\n",
        "ks = np.array([401, 574, 874, 919, 459, 739, 653, 902, 746, 832])"
      ]
    },
    {
      "cell_type": "markdown",
      "source": [
        "Воспользуемя формулой ковариации:\n",
        "$$cov_{xy} = M(XY) - M(X) * M(Y), где: $$\n",
        "где М - математическое ожидание"
      ],
      "metadata": {
        "id": "fYg2_x9p5pEH"
      }
    },
    {
      "cell_type": "code",
      "source": [
        "cov = np.mean(zp*ks) - np.mean(zp)*np.mean(ks)\n",
        "print(cov)"
      ],
      "metadata": {
        "colab": {
          "base_uri": "https://localhost:8080/"
        },
        "id": "TBS0ypiq6OyZ",
        "outputId": "e55e0bf9-656d-4f85-dd51-970017e79fd6"
      },
      "execution_count": 3,
      "outputs": [
        {
          "output_type": "stream",
          "name": "stdout",
          "text": [
            "9157.839999999997\n"
          ]
        }
      ]
    },
    {
      "cell_type": "code",
      "source": [
        "np.cov(zp,ks, ddof=0)"
      ],
      "metadata": {
        "colab": {
          "base_uri": "https://localhost:8080/"
        },
        "id": "dw8JlVqf6hx2",
        "outputId": "710493e1-7127-426c-dc7c-7bebbffad203"
      },
      "execution_count": 4,
      "outputs": [
        {
          "output_type": "execute_result",
          "data": {
            "text/plain": [
              "array([[ 3494.64,  9157.84],\n",
              "       [ 9157.84, 30468.89]])"
            ]
          },
          "metadata": {},
          "execution_count": 4
        }
      ]
    },
    {
      "cell_type": "code",
      "source": [
        "r = cov/(np.std(zp)*np.std(ks))\n",
        "print(r)"
      ],
      "metadata": {
        "colab": {
          "base_uri": "https://localhost:8080/"
        },
        "id": "GlojG1Rd6kb1",
        "outputId": "1e8806c0-fb6a-468d-b057-87e34db95442"
      },
      "execution_count": 5,
      "outputs": [
        {
          "output_type": "stream",
          "name": "stdout",
          "text": [
            "0.8874900920739158\n"
          ]
        }
      ]
    },
    {
      "cell_type": "code",
      "source": [
        "np.corrcoef(zp, ks)"
      ],
      "metadata": {
        "colab": {
          "base_uri": "https://localhost:8080/"
        },
        "id": "0hKJTpQv63zk",
        "outputId": "9f934bb3-da83-4231-8b0d-02fb55f1fb1a"
      },
      "execution_count": 7,
      "outputs": [
        {
          "output_type": "execute_result",
          "data": {
            "text/plain": [
              "array([[1.        , 0.88749009],\n",
              "       [0.88749009, 1.        ]])"
            ]
          },
          "metadata": {},
          "execution_count": 7
        }
      ]
    },
    {
      "cell_type": "markdown",
      "source": [
        "**Задание №2.** Измерены значения IQ выборки студентов, обучающихся в местных технических вузах: 131, 125, 115, 122, 131, 115, 107, 99, 125, 111. Известно, что в генеральной совокупности IQ распределен нормально. Найдите доверительный интервал для математического ожидания с надежностью 0.95."
      ],
      "metadata": {
        "id": "0Ohx5XZr4dJD"
      }
    },
    {
      "cell_type": "markdown",
      "source": [
        "Так как дисперсия неизвестна, используем распределение Стюдента.\n",
        "\n",
        "$$\\overline{\\mathrm{x}} \\pm \\operatorname{t}_{\\frac{\\alpha}{2}}  \\frac{\\sigma}{\\sqrt{n}}$$\n",
        "\n",
        "По таблице для $\\frac{\\alpha}{2} = \\frac{1 - 0.95}{2} = 0.025$ находим p = 0.975"
      ],
      "metadata": {
        "id": "tZeShT_68mTf"
      }
    },
    {
      "cell_type": "code",
      "source": [
        "alpha = 0.05\n",
        "iq = np.array([131, 125, 115, 122, 131, 115, 107, 99, 125, 111])\n",
        "n = len(iq)\n",
        "t = stats.t.ppf(0.975, n - 1)"
      ],
      "metadata": {
        "id": "jzczuGky4qz7"
      },
      "execution_count": 18,
      "outputs": []
    },
    {
      "cell_type": "code",
      "source": [
        "x_0 = np.mean(iq) - t*np.std(iq, ddof=1)/np.sqrt(n)\n",
        "print(round(x_0, 2))"
      ],
      "metadata": {
        "colab": {
          "base_uri": "https://localhost:8080/"
        },
        "id": "VCp-MV0VAisy",
        "outputId": "5e8ce569-d0a6-49a8-802c-87315932e2eb"
      },
      "execution_count": 19,
      "outputs": [
        {
          "output_type": "stream",
          "name": "stdout",
          "text": [
            "110.56\n"
          ]
        }
      ]
    },
    {
      "cell_type": "code",
      "source": [
        "x_1 = np.mean(iq) + t*np.std(iq, ddof=1)/np.sqrt(n)\n",
        "print(round(x_1, 2))"
      ],
      "metadata": {
        "colab": {
          "base_uri": "https://localhost:8080/"
        },
        "id": "w9GYYgHJAixb",
        "outputId": "60c19c67-cb8d-40bf-d506-c8a9e2218513"
      },
      "execution_count": 20,
      "outputs": [
        {
          "output_type": "stream",
          "name": "stdout",
          "text": [
            "125.64\n"
          ]
        }
      ]
    },
    {
      "cell_type": "markdown",
      "source": [
        "**Ответ:** Доверительный интервал для математического ожидания с надежностью 0.95 составляет: [110.56; 125.64]"
      ],
      "metadata": {
        "id": "wCFnvuEXAR4p"
      }
    },
    {
      "cell_type": "markdown",
      "source": [
        "**Задание №3.** Известно, что рост футболистов в сборной распределен нормально с дисперсией генеральной совокупности, равной 25 кв.см. Объем выборки равен 27, среднее выборочное составляет 174.2. Найдите доверительный интервал для математического ожидания с надежностью 0.95."
      ],
      "metadata": {
        "id": "dxlpuKIp4rR_"
      }
    },
    {
      "cell_type": "markdown",
      "source": [
        "Для нахождения доверительного интервала для математического ожидания с надежностью 0.95 при известной σ генеральной совокупности используем следующую формулу:\n",
        "\n",
        "$$X_{ср} +/- z_{\\frac{\\alpha}{2}} * \\frac{\\sigma}{\\sqrt{n}}$$\n"
      ],
      "metadata": {
        "id": "v39R6yoDBuyo"
      }
    },
    {
      "cell_type": "code",
      "source": [
        "alpha = 0.05\n",
        "sigma = 5\n",
        "n = 27\n",
        "avg = 174.2"
      ],
      "metadata": {
        "id": "FGjdKvwM4wp-"
      },
      "execution_count": 22,
      "outputs": []
    },
    {
      "cell_type": "code",
      "source": [
        "x_0 = avg - 1.96*sigma/np.sqrt(n)\n",
        "print(round(x_0, 2))"
      ],
      "metadata": {
        "colab": {
          "base_uri": "https://localhost:8080/"
        },
        "id": "3bhUD1VKGHML",
        "outputId": "bb066cd1-d929-4bc3-c961-fcfbc65ad104"
      },
      "execution_count": 23,
      "outputs": [
        {
          "output_type": "stream",
          "name": "stdout",
          "text": [
            "172.31\n"
          ]
        }
      ]
    },
    {
      "cell_type": "code",
      "source": [
        "x_1 = avg + 1.96*sigma/np.sqrt(n)\n",
        "print(round(x_1, 2))"
      ],
      "metadata": {
        "colab": {
          "base_uri": "https://localhost:8080/"
        },
        "id": "qpkvE8-aGJPC",
        "outputId": "8b3cba42-5807-4b95-ddbc-bf30ab37deb3"
      },
      "execution_count": 24,
      "outputs": [
        {
          "output_type": "stream",
          "name": "stdout",
          "text": [
            "176.09\n"
          ]
        }
      ]
    },
    {
      "cell_type": "markdown",
      "source": [
        "**Ответ:** Доверительный интервал для математического ожидания с надежностью 0.95 составляет: [172.31; 176.09]"
      ],
      "metadata": {
        "id": "GfRFlmUbHEeT"
      }
    }
  ]
}