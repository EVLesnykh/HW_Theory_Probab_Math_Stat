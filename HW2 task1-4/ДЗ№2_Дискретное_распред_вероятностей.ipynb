{
  "nbformat": 4,
  "nbformat_minor": 0,
  "metadata": {
    "colab": {
      "provenance": []
    },
    "kernelspec": {
      "name": "python3",
      "display_name": "Python 3"
    },
    "language_info": {
      "name": "python"
    }
  },
  "cells": [
    {
      "cell_type": "code",
      "source": [
        "from math import factorial"
      ],
      "metadata": {
        "id": "BthVn-I_qHfq"
      },
      "execution_count": 2,
      "outputs": []
    },
    {
      "cell_type": "markdown",
      "source": [
        "**Задача №1**.  Вероятность того, что стрелок попадет в мишень, выстрелив один раз, равна 0.8. Стрелок выстрелил 100 раз. Найдите вероятность того, что стрелок попадет в цель ровно 85 раз."
      ],
      "metadata": {
        "id": "TVgEfLp3lnOA"
      }
    },
    {
      "cell_type": "markdown",
      "source": [
        "Вероятность того, что стрелок попадет в цель ровно 85 раз (событие А) определим по формуле Бернулли: <br>\n",
        " $\\displaystyle P_{n}(X=k)=C^k_{n}p^{k}q^{n-k}$, где: <br>\n",
        "n - число испытаний, <br>\n",
        "k - число наступления события, <br>\n",
        "p - вероятность наступления события A, <br>\n",
        "q - противоположная вероятность q = 1 – p <br>\n",
        "\n"
      ],
      "metadata": {
        "id": "q1-ki8Pqnr0o"
      }
    },
    {
      "cell_type": "markdown",
      "source": [
        "Определим какое количество вариантов (общее число исходов) есть, чтобы стрелок из 100 выстрелов попал в мишень ровно 85 раз по следующей формуле комбинаторики (сочетание): <br>\n",
        "$\\displaystyle C^k_n=\\frac{n!}{k!(n-k)!}$"
      ],
      "metadata": {
        "id": "OskacyGHtHDO"
      }
    },
    {
      "cell_type": "code",
      "source": [
        "def hit_the_target (n, k):\n",
        "  return int(factorial(n) / (factorial(k) * factorial(n - k)))\n",
        ""
      ],
      "metadata": {
        "id": "GurpILB9q6t0"
      },
      "execution_count": 18,
      "outputs": []
    },
    {
      "cell_type": "code",
      "source": [
        "hit_the_target (100, 85)"
      ],
      "metadata": {
        "colab": {
          "base_uri": "https://localhost:8080/"
        },
        "id": "AMbkCLecri-3",
        "outputId": "a30836d5-c5c6-4449-e690-46b3bded8202"
      },
      "execution_count": 19,
      "outputs": [
        {
          "output_type": "execute_result",
          "data": {
            "text/plain": [
              "253338471349988640"
            ]
          },
          "metadata": {},
          "execution_count": 19
        }
      ]
    },
    {
      "cell_type": "markdown",
      "source": [
        "Вероятность того, что стрелок попадет в цель ровно 85 раз (событие А):"
      ],
      "metadata": {
        "id": "96akIAgcuJmj"
      }
    },
    {
      "cell_type": "code",
      "source": [
        "def probability (p, n, k):\n",
        "    return hit_the_target (n,k) * p**k * (1-p)**(n-k)"
      ],
      "metadata": {
        "id": "EWFLStfYt8jz"
      },
      "execution_count": 20,
      "outputs": []
    },
    {
      "cell_type": "code",
      "source": [
        "round(probability (0.8, 100, 85), 4)"
      ],
      "metadata": {
        "colab": {
          "base_uri": "https://localhost:8080/"
        },
        "id": "PpyproPnuhpn",
        "outputId": "a875e66e-ee90-451a-baea-33931808cb4d"
      },
      "execution_count": 21,
      "outputs": [
        {
          "output_type": "execute_result",
          "data": {
            "text/plain": [
              "0.0481"
            ]
          },
          "metadata": {},
          "execution_count": 21
        }
      ]
    },
    {
      "cell_type": "markdown",
      "source": [
        "**Ответ:** Итого вероятность того, что стрелок попадет в цель ровно 85 раз (событие А) составляет: <br>\n",
        " Р(А) = 0,0481"
      ],
      "metadata": {
        "id": "oossWg-ovAHm"
      }
    },
    {
      "cell_type": "markdown",
      "source": [
        "**Задача №2.** Вероятность того, что лампочка перегорит в течение первого дня эксплуатации, равна 0.0004. В жилом комплексе после ремонта в один день включили 5000 новых лампочек. Какова вероятность, что ни одна из них не перегорит в первый день? Какова вероятность, что перегорят ровно две?"
      ],
      "metadata": {
        "id": "Y3YFK8OIl24j"
      }
    },
    {
      "cell_type": "markdown",
      "source": [
        "Вероятность того, что лампочка перегорит исходя из заданных условий определим по формуле Пуассона: <br>\n",
        " $\\displaystyle P_m=\\frac{\\lambda^m}{m!}\\cdot e^{-\\lambda}\\text{, где: }\\lambda \\text{ среднее количество наступления события за определенную единицу измерений, и }\\lambda=p\\cdot n$"
      ],
      "metadata": {
        "id": "FvyMhf8RwCU3"
      }
    },
    {
      "cell_type": "code",
      "source": [
        "import numpy as np"
      ],
      "metadata": {
        "id": "2GbOP92umgyW"
      },
      "execution_count": 37,
      "outputs": []
    },
    {
      "cell_type": "markdown",
      "source": [
        "Вероятность того, что лампочка перегорит исходя из заданных условий определим следующим образом:"
      ],
      "metadata": {
        "id": "SD-MaR2kykym"
      }
    },
    {
      "cell_type": "code",
      "source": [
        "def lamp_burned_out (m, n, p):\n",
        "    l = p * n\n",
        "    return l**m/factorial(m) * np.exp(-l)"
      ],
      "metadata": {
        "id": "QzOxrsnoygVN"
      },
      "execution_count": 40,
      "outputs": []
    },
    {
      "cell_type": "markdown",
      "source": [
        "Вероятность, что ни одна из лампочек не перегорит в первый день:"
      ],
      "metadata": {
        "id": "rCPCOGGfzH5U"
      }
    },
    {
      "cell_type": "code",
      "source": [
        "p0 = round(lamp_burned_out(0, 5000, 0.0004), 4)\n",
        "p0"
      ],
      "metadata": {
        "colab": {
          "base_uri": "https://localhost:8080/"
        },
        "id": "1DmW2UNCxMi6",
        "outputId": "b44f7afd-3347-4228-f71b-d3fe6ae0bde6"
      },
      "execution_count": 41,
      "outputs": [
        {
          "output_type": "execute_result",
          "data": {
            "text/plain": [
              "0.1353"
            ]
          },
          "metadata": {},
          "execution_count": 41
        }
      ]
    },
    {
      "cell_type": "markdown",
      "source": [
        "Вероятность, что перегорят ровно две лампочки в первый день:"
      ],
      "metadata": {
        "id": "TIJFepJCzIxn"
      }
    },
    {
      "cell_type": "code",
      "source": [
        "p1 = round(lamp_burned_out(2, 5000, 0.0004), 4)\n",
        "p1"
      ],
      "metadata": {
        "colab": {
          "base_uri": "https://localhost:8080/"
        },
        "id": "xZtxXbYmxSIn",
        "outputId": "3234ec50-647f-4cfb-abc3-0271acf20ca4"
      },
      "execution_count": 42,
      "outputs": [
        {
          "output_type": "execute_result",
          "data": {
            "text/plain": [
              "0.2707"
            ]
          },
          "metadata": {},
          "execution_count": 42
        }
      ]
    },
    {
      "cell_type": "markdown",
      "source": [
        "**Ответ:** Вероятность, что ни одна из лампочек не перегорит в первый день: 0,1353. <br> Вероятность, что перегорят ровно две лампочки в первый день: 0,2707."
      ],
      "metadata": {
        "id": "qPHUEatOzt43"
      }
    },
    {
      "cell_type": "markdown",
      "source": [
        "**Задача №3.** Монету подбросили 144 раза. Какова вероятность, что орел выпадет ровно 70 раз?"
      ],
      "metadata": {
        "id": "zdOOz8UxmhKP"
      }
    },
    {
      "cell_type": "markdown",
      "source": [
        "Вероятность того, что орел выпадет ровно 70 раз из 144 подбрасываний (событие А) определим по формуле Бернулли: <br>\n",
        " $\\displaystyle P_{n}(X=k)=C^k_{n}p^{k}q^{n-k}$, где: <br>\n",
        "n - число испытаний, <br>\n",
        "k - число наступления события, <br>\n",
        "p - вероятность наступления события A, <br>\n",
        "q - противоположная вероятность q = 1 – p <br>"
      ],
      "metadata": {
        "id": "u9wtJzBfzMSr"
      }
    },
    {
      "cell_type": "markdown",
      "source": [
        "Определим какое количество вариантов (общее число исходов) есть, чтобы орел выпал 70 раз из 144 раз по следующей формуле комбинаторики (сочетание): <br>\n",
        "$\\displaystyle C^k_n=\\frac{n!}{k!(n-k)!}$"
      ],
      "metadata": {
        "id": "4ic6w4EFz5MC"
      }
    },
    {
      "cell_type": "code",
      "source": [
        "def eagle (n, k):\n",
        "  return int(factorial(n) / (factorial(k) * factorial(n - k)))"
      ],
      "metadata": {
        "id": "aQmUKyVxz35w"
      },
      "execution_count": 22,
      "outputs": []
    },
    {
      "cell_type": "code",
      "source": [
        "eagle (144, 70)"
      ],
      "metadata": {
        "colab": {
          "base_uri": "https://localhost:8080/"
        },
        "id": "PkoCZhHM0Tdq",
        "outputId": "e816397e-b318-40d5-f6be-cc7ec714c591"
      },
      "execution_count": 23,
      "outputs": [
        {
          "output_type": "execute_result",
          "data": {
            "text/plain": [
              "1400749509083708712353342007350408066891776"
            ]
          },
          "metadata": {},
          "execution_count": 23
        }
      ]
    },
    {
      "cell_type": "markdown",
      "source": [
        "Вероятность того, что орел выпадет ровно 70 раз из 144 (событие А):"
      ],
      "metadata": {
        "id": "7cjUkO_G0yKG"
      }
    },
    {
      "cell_type": "code",
      "source": [
        "def probabilityEagle (p, n, k):\n",
        "    return eagle (n,k) * p**k * (1-p)**(n-k)"
      ],
      "metadata": {
        "id": "PXgc1zKt098m"
      },
      "execution_count": 26,
      "outputs": []
    },
    {
      "cell_type": "code",
      "source": [
        "round(probabilityEagle (0.5, 144, 70), 4)"
      ],
      "metadata": {
        "colab": {
          "base_uri": "https://localhost:8080/"
        },
        "id": "AVv4VQK71BVE",
        "outputId": "01352ede-4df7-486c-8353-7ebb022c57c6"
      },
      "execution_count": 27,
      "outputs": [
        {
          "output_type": "execute_result",
          "data": {
            "text/plain": [
              "0.0628"
            ]
          },
          "metadata": {},
          "execution_count": 27
        }
      ]
    },
    {
      "cell_type": "markdown",
      "source": [
        "**Ответ:** Итого вероятность того, что орел выпадет ровно 70 раз из 144 подбрасываний (событие А) составляет: <br>\n",
        " Р(А) = 0,0628."
      ],
      "metadata": {
        "id": "w2bCTrJH2TSo"
      }
    },
    {
      "cell_type": "markdown",
      "source": [
        "**Задача №4.** В первом ящике находится 10 мячей, из которых 7 - белые. Во втором ящике - 11 мячей, из которых 9 белых. Из каждого ящика вытаскивают случайным образом по два мяча. <br>\n",
        "a) Какова вероятность того, что все мячи белые? <br>\n",
        "б) Какова вероятность того, что ровно два мяча белые? <br>\n",
        "в) Какова вероятность того, что хотя бы один мяч белый?"
      ],
      "metadata": {
        "id": "4sSsWPukmov4"
      }
    },
    {
      "cell_type": "markdown",
      "source": [
        "**а)** Определим какое количество вариантов (общее число исходов) есть, чтобы при вытаскивании из ящиков по два мяча, все мячи оказались белыми по следующей формуле комбинаторики (сочетание): <br>\n",
        "$\\displaystyle C^k_n=\\frac{n!}{k!(n-k)!}$"
      ],
      "metadata": {
        "id": "sFUFN1jx4Ajw"
      }
    },
    {
      "cell_type": "code",
      "source": [
        "def ballBox1 (n, k):\n",
        "  return int(factorial(n) / (factorial(k) * factorial(n - k)))"
      ],
      "metadata": {
        "id": "dyun9ilB71sS"
      },
      "execution_count": 3,
      "outputs": []
    },
    {
      "cell_type": "code",
      "source": [
        " ballBox1 (10, 2)"
      ],
      "metadata": {
        "colab": {
          "base_uri": "https://localhost:8080/"
        },
        "id": "_PQ0zhF375yM",
        "outputId": "67d3ec2f-637d-4135-ebae-0ccfeb4143f3"
      },
      "execution_count": 4,
      "outputs": [
        {
          "output_type": "execute_result",
          "data": {
            "text/plain": [
              "45"
            ]
          },
          "metadata": {},
          "execution_count": 4
        }
      ]
    },
    {
      "cell_type": "code",
      "source": [
        "n1=45"
      ],
      "metadata": {
        "id": "DU522Jid9_BZ"
      },
      "execution_count": 5,
      "outputs": []
    },
    {
      "cell_type": "code",
      "source": [
        "def ballBox2 (n, k):\n",
        "  return int(factorial(n) / (factorial(k) * factorial(n - k)))"
      ],
      "metadata": {
        "id": "yZt2LyfF8BfY"
      },
      "execution_count": 6,
      "outputs": []
    },
    {
      "cell_type": "code",
      "source": [
        "ballBox2 (11, 2)"
      ],
      "metadata": {
        "colab": {
          "base_uri": "https://localhost:8080/"
        },
        "id": "BkeAvwbB8Boa",
        "outputId": "2372da82-55a0-4afa-d2ac-97e05c9c8fce"
      },
      "execution_count": 7,
      "outputs": [
        {
          "output_type": "execute_result",
          "data": {
            "text/plain": [
              "55"
            ]
          },
          "metadata": {},
          "execution_count": 7
        }
      ]
    },
    {
      "cell_type": "code",
      "source": [
        "n2=55"
      ],
      "metadata": {
        "id": "7XrW_FX5-Bi9"
      },
      "execution_count": 8,
      "outputs": []
    },
    {
      "cell_type": "markdown",
      "source": [
        "Определим какое количество вариантов (благоприятных исходов) есть, чтобы при вытаскивании из ящиков по два мяча, все мячи оказались белыми по следующей формуле комбинаторики (сочетание): <br>\n",
        "$\\displaystyle C^k_n=\\frac{n!}{k!(n-k)!}$"
      ],
      "metadata": {
        "id": "t0X3zisE7ok4"
      }
    },
    {
      "cell_type": "code",
      "source": [
        "def ballBox1good (n, k):\n",
        "  return int(factorial(n) / (factorial(k) * factorial(n - k)))"
      ],
      "metadata": {
        "id": "bAyVW3UzmxqY"
      },
      "execution_count": 9,
      "outputs": []
    },
    {
      "cell_type": "code",
      "source": [
        "ballBox1 (7, 2)"
      ],
      "metadata": {
        "colab": {
          "base_uri": "https://localhost:8080/"
        },
        "id": "njdzopYk6MTH",
        "outputId": "bc352dcc-3cb6-4bd5-f24a-f210f1c1dbff"
      },
      "execution_count": 10,
      "outputs": [
        {
          "output_type": "execute_result",
          "data": {
            "text/plain": [
              "21"
            ]
          },
          "metadata": {},
          "execution_count": 10
        }
      ]
    },
    {
      "cell_type": "code",
      "source": [
        "m1=21"
      ],
      "metadata": {
        "id": "W2dBPWxK-JDT"
      },
      "execution_count": 11,
      "outputs": []
    },
    {
      "cell_type": "code",
      "source": [
        "def ballBox2good (n, k):\n",
        "  return int(factorial(n) / (factorial(k) * factorial(n - k)))"
      ],
      "metadata": {
        "id": "OTDTG5Ah7WLN"
      },
      "execution_count": 12,
      "outputs": []
    },
    {
      "cell_type": "code",
      "source": [
        "ballBox2good (9, 2)"
      ],
      "metadata": {
        "colab": {
          "base_uri": "https://localhost:8080/"
        },
        "id": "SmCP4UE87ZVB",
        "outputId": "484078de-33fd-4c7a-9ec1-b0fc3d644e5f"
      },
      "execution_count": 13,
      "outputs": [
        {
          "output_type": "execute_result",
          "data": {
            "text/plain": [
              "36"
            ]
          },
          "metadata": {},
          "execution_count": 13
        }
      ]
    },
    {
      "cell_type": "code",
      "source": [
        "m2=36"
      ],
      "metadata": {
        "id": "mbJf7dt--LOB"
      },
      "execution_count": 14,
      "outputs": []
    },
    {
      "cell_type": "markdown",
      "source": [
        "Вероятность одновременного наступления событий А и В, а именно, что извлеченные из 2х ящиков по два мяча будут белые  определим по формуле: <br>\n",
        "$\\displaystyle P(A+В)=P(A)\\cdot P(B)$ <br>\n",
        "\n",
        "$\\displaystyle P(A)=\\frac{m}{n}$, <br>\n",
        "\n",
        "$\\displaystyle P(В)=\\frac{m}{n}$,\n",
        " <br> где $m$ - число благоприятных исходов (наступления события А), <br> $n$ - общее число всех исходов."
      ],
      "metadata": {
        "id": "vL4v_kEX8m2w"
      }
    },
    {
      "cell_type": "code",
      "source": [
        "PA=round(m1/n1, 4)"
      ],
      "metadata": {
        "id": "Lo-0khxY97sL"
      },
      "execution_count": 18,
      "outputs": []
    },
    {
      "cell_type": "code",
      "source": [
        "PA"
      ],
      "metadata": {
        "colab": {
          "base_uri": "https://localhost:8080/"
        },
        "id": "mUt-3CeT-kr_",
        "outputId": "c8a0e911-ae46-467f-cd29-0f363f0b2cb3"
      },
      "execution_count": 19,
      "outputs": [
        {
          "output_type": "execute_result",
          "data": {
            "text/plain": [
              "0.4667"
            ]
          },
          "metadata": {},
          "execution_count": 19
        }
      ]
    },
    {
      "cell_type": "code",
      "source": [
        "PB=round(m2/n2, 4)"
      ],
      "metadata": {
        "id": "xyUSL1Pv-r9J"
      },
      "execution_count": 20,
      "outputs": []
    },
    {
      "cell_type": "code",
      "source": [
        "PB"
      ],
      "metadata": {
        "colab": {
          "base_uri": "https://localhost:8080/"
        },
        "id": "4UjD9OFz-wN8",
        "outputId": "0480e0dd-7472-43bc-e6d7-c5cfeb4ab991"
      },
      "execution_count": 21,
      "outputs": [
        {
          "output_type": "execute_result",
          "data": {
            "text/plain": [
              "0.6545"
            ]
          },
          "metadata": {},
          "execution_count": 21
        }
      ]
    },
    {
      "cell_type": "code",
      "source": [
        "PAB=round(PA*PB, 4)"
      ],
      "metadata": {
        "id": "DXH11u68hKIA"
      },
      "execution_count": 24,
      "outputs": []
    },
    {
      "cell_type": "code",
      "source": [
        "PAB"
      ],
      "metadata": {
        "colab": {
          "base_uri": "https://localhost:8080/"
        },
        "id": "G6DuVk59hqT8",
        "outputId": "ec9b2400-092b-440a-a052-f968758d1576"
      },
      "execution_count": 25,
      "outputs": [
        {
          "output_type": "execute_result",
          "data": {
            "text/plain": [
              "0.3055"
            ]
          },
          "metadata": {},
          "execution_count": 25
        }
      ]
    },
    {
      "cell_type": "markdown",
      "source": [
        "**Ответ:** Вероятность одновременного наступления событий А и В, а именно, что извлеченные из 2х ящиков по два мяча будут белые составляет P(A)=0.3055"
      ],
      "metadata": {
        "id": "kJCii33A_zyA"
      }
    },
    {
      "cell_type": "markdown",
      "source": [
        "**б)** Определим какое количество вариантов есть, чтобы при вытаскивании из ящиков по два мяча, только два мяча оказались белыми по следующей формуле комбинаторики (сочетание): <br>\n",
        "$\\displaystyle C^k_n=\\frac{n!}{k!(n-k)!}$"
      ],
      "metadata": {
        "id": "Hgf1x8OtiFqy"
      }
    },
    {
      "cell_type": "code",
      "source": [
        "def ballsArguments(n, k):\n",
        "  return int(factorial(n) / (factorial(k) * factorial(n - k)))"
      ],
      "metadata": {
        "id": "p-1HDMv4lOKB"
      },
      "execution_count": 3,
      "outputs": []
    },
    {
      "cell_type": "markdown",
      "source": [
        "Вероятность события А определим по формуле: <br>\n",
        "P(A)=m/n, где: <br>   m  - число благоприятных исходов (наступления события А), <br>\n",
        "n  - общее число всех исходов."
      ],
      "metadata": {
        "id": "t_NV_TVDjwjS"
      }
    },
    {
      "cell_type": "code",
      "source": [
        "goodTwo  = ballsArguments(7,2)*ballsArguments(2,2) + \\\n",
        "ballsArguments(7,1)*ballsArguments(3,1)*ballsArguments(9,1)*ballsArguments(2,1) + \\\n",
        "ballsArguments(9,2)*ballsArguments(3,2)\n",
        "goodAll = ballsArguments(10,2) * ballsArguments(11,2)\n",
        "twoWhiteBalls = round(goodTwo/goodAll, 4)\n",
        "twoWhiteBalls"
      ],
      "metadata": {
        "colab": {
          "base_uri": "https://localhost:8080/"
        },
        "id": "jyXXVhRMii4A",
        "outputId": "861265ae-521a-482e-ac6d-fb5bec0d6adc"
      },
      "execution_count": 5,
      "outputs": [
        {
          "output_type": "execute_result",
          "data": {
            "text/plain": [
              "0.2048"
            ]
          },
          "metadata": {},
          "execution_count": 5
        }
      ]
    },
    {
      "cell_type": "markdown",
      "source": [
        "**Ответ:** Вероятность того, при вытаскивании из ящиков по два мяча, только два мяча оказались белыми составляет P(A)=0.2048"
      ],
      "metadata": {
        "id": "keheENQZ_ma1"
      }
    },
    {
      "cell_type": "markdown",
      "source": [
        "**в)** Определим какое количество вариантов есть, чтобы при вытаскивании из ящиков по два мяча, только один мяч оказался белым по следующей формуле комбинаторики (сочетание): <br>\n",
        "$\\displaystyle C^k_n=\\frac{n!}{k!(n-k)!}$"
      ],
      "metadata": {
        "id": "N7nl0AdaiI8p"
      }
    },
    {
      "cell_type": "code",
      "source": [
        "def ballsArguments(n, k):\n",
        "  return int(factorial(n) / (factorial(k) * factorial(n - k)))"
      ],
      "metadata": {
        "id": "Vo7m3QJW4hIX"
      },
      "execution_count": 7,
      "outputs": []
    },
    {
      "cell_type": "markdown",
      "source": [
        "Вероятность события $\\bar A$-\"не было извлечено ни одного белого мяча\", которое наряду с искомым событием $A$-\"был извлечен хотя бы 1 белый мяч\", составляют полную группу событий, по скольку в результате испытаний может произойти только либо событие $A$, либо событие $\\bar A$, и поэтому:  \n",
        "$P(A)=1-P(\\bar A)$, где вероятность событий определим по формуле: <br>\n",
        "P=m/n, где: <br>   m  - число благоприятных исходов, <br>\n",
        "n  - общее число всех исходов.<br>\n",
        "Для наступления события $\\bar A$ необходимо чтобы из первой и второй корзин не было вынуто ни одного белого мяча, число таких благоприятных исходов для первой корзины $m_1=C^2_3$ а для второй $C^2_2$  \n",
        "Вычислим $m_1$ и $m_2$ (число благоприятных исходов при извлечение мячей из ящиков 1 и 2:"
      ],
      "metadata": {
        "id": "P0u9WT6j4L2g"
      }
    },
    {
      "cell_type": "code",
      "source": [
        "m1=ballsArguments(3,2)"
      ],
      "metadata": {
        "id": "tIfZuMkR4xBw"
      },
      "execution_count": 9,
      "outputs": []
    },
    {
      "cell_type": "code",
      "source": [
        "m1"
      ],
      "metadata": {
        "colab": {
          "base_uri": "https://localhost:8080/"
        },
        "id": "nJsfqvBD5ANC",
        "outputId": "c97ea40f-f9b3-4718-939a-7a9d681cf74b"
      },
      "execution_count": 19,
      "outputs": [
        {
          "output_type": "execute_result",
          "data": {
            "text/plain": [
              "3"
            ]
          },
          "metadata": {},
          "execution_count": 19
        }
      ]
    },
    {
      "cell_type": "code",
      "source": [
        "m2=ballsArguments(2,2)"
      ],
      "metadata": {
        "id": "LLG5eG7h46ZH"
      },
      "execution_count": 12,
      "outputs": []
    },
    {
      "cell_type": "code",
      "source": [
        "m2"
      ],
      "metadata": {
        "colab": {
          "base_uri": "https://localhost:8080/"
        },
        "id": "cYfQ2Ytg5EOu",
        "outputId": "ee1ac205-de14-46d1-8c7a-18d4a00fad5b"
      },
      "execution_count": 20,
      "outputs": [
        {
          "output_type": "execute_result",
          "data": {
            "text/plain": [
              "1"
            ]
          },
          "metadata": {},
          "execution_count": 20
        }
      ]
    },
    {
      "cell_type": "markdown",
      "source": [
        "Вычислим $n_1$ и $n_2$ (общее число всех исходов при извлечение мячей из ящиков 1 и 2):"
      ],
      "metadata": {
        "id": "dmbFT2hi8rU8"
      }
    },
    {
      "cell_type": "code",
      "source": [
        "n1=ballsArguments(10,2)"
      ],
      "metadata": {
        "id": "zUfJKhiC9QpN"
      },
      "execution_count": 23,
      "outputs": []
    },
    {
      "cell_type": "code",
      "source": [
        "n1"
      ],
      "metadata": {
        "colab": {
          "base_uri": "https://localhost:8080/"
        },
        "id": "lvQFbarv9WVz",
        "outputId": "33fa1bf2-ae00-4b59-b280-2c1bff8ef6bd"
      },
      "execution_count": 26,
      "outputs": [
        {
          "output_type": "execute_result",
          "data": {
            "text/plain": [
              "45"
            ]
          },
          "metadata": {},
          "execution_count": 26
        }
      ]
    },
    {
      "cell_type": "code",
      "source": [
        "n2=ballsArguments(11,2)"
      ],
      "metadata": {
        "id": "Kega7MfG9ZDX"
      },
      "execution_count": 25,
      "outputs": []
    },
    {
      "cell_type": "code",
      "source": [
        "n2"
      ],
      "metadata": {
        "colab": {
          "base_uri": "https://localhost:8080/"
        },
        "id": "HVsqc-Hx9m8C",
        "outputId": "835ba54b-3089-4671-f1e1-699b44401f75"
      },
      "execution_count": 27,
      "outputs": [
        {
          "output_type": "execute_result",
          "data": {
            "text/plain": [
              "55"
            ]
          },
          "metadata": {},
          "execution_count": 27
        }
      ]
    },
    {
      "cell_type": "markdown",
      "source": [
        "Тогда $P(\\bar A)=\\frac{m1}{n1}\\cdot\\frac{m2}{n2}$, вычислим $P(\\bar A)$ и $P(A)$:"
      ],
      "metadata": {
        "id": "p-4Devt37FgG"
      }
    },
    {
      "cell_type": "code",
      "source": [
        "PAreverse = round((m1/n1)*(m2/n2), 4)"
      ],
      "metadata": {
        "id": "RmT1xNrc7gia"
      },
      "execution_count": 35,
      "outputs": []
    },
    {
      "cell_type": "code",
      "source": [
        "PAreverse"
      ],
      "metadata": {
        "colab": {
          "base_uri": "https://localhost:8080/"
        },
        "id": "htfkC0F6-CQx",
        "outputId": "6081caad-5186-41af-e006-81f306fa7f30"
      },
      "execution_count": 36,
      "outputs": [
        {
          "output_type": "execute_result",
          "data": {
            "text/plain": [
              "0.0012"
            ]
          },
          "metadata": {},
          "execution_count": 36
        }
      ]
    },
    {
      "cell_type": "code",
      "source": [
        "PA=1-PAreverse"
      ],
      "metadata": {
        "id": "8ZllvIn2-QIC"
      },
      "execution_count": 37,
      "outputs": []
    },
    {
      "cell_type": "code",
      "source": [
        "PA"
      ],
      "metadata": {
        "colab": {
          "base_uri": "https://localhost:8080/"
        },
        "id": "7E08Sqcg-qp2",
        "outputId": "e55ca293-5afe-4e37-f8b4-be1eee3f98e7"
      },
      "execution_count": 38,
      "outputs": [
        {
          "output_type": "execute_result",
          "data": {
            "text/plain": [
              "0.9988"
            ]
          },
          "metadata": {},
          "execution_count": 38
        }
      ]
    },
    {
      "cell_type": "markdown",
      "source": [
        "**Ответ:** Вероятность того, что при вытаскивании из ящиков по два мяча, только один мяч окажется белым составляет P(A)=0.9988"
      ],
      "metadata": {
        "id": "I4F_UnOm-w2d"
      }
    }
  ]
}