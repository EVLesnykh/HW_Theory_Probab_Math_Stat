{
  "nbformat": 4,
  "nbformat_minor": 0,
  "metadata": {
    "colab": {
      "provenance": []
    },
    "kernelspec": {
      "name": "python3",
      "display_name": "Python 3"
    },
    "language_info": {
      "name": "python"
    }
  },
  "cells": [
    {
      "cell_type": "code",
      "execution_count": 12,
      "metadata": {
        "id": "X1ZOWNe3_roB"
      },
      "outputs": [],
      "source": [
        "import numpy as np\n",
        "from math import factorial"
      ]
    },
    {
      "cell_type": "markdown",
      "source": [
        "**Задача №1.** Случайная непрерывная величина A имеет равномерное распределение на промежутке (200, 800]. Найдите ее среднее значение и дисперсию."
      ],
      "metadata": {
        "id": "WpGdXI41AOMh"
      }
    },
    {
      "cell_type": "markdown",
      "source": [
        "Для определения среднего значения и дисперсии непрерывной СВ А на промежутке (200, 800] будем использовать формулы нахождения математического ожидания:<br> $$ M(X)=\\frac{a+b}{2} $$ и дисперсии: $$ D(X)=\\frac{(b-a)^2}{12} $$"
      ],
      "metadata": {
        "id": "dgooY1pgDZ_W"
      }
    },
    {
      "cell_type": "code",
      "source": [
        "def avg_A (a, b):\n",
        "    avg_A = (a + b) / 2\n",
        "    return avg_A"
      ],
      "metadata": {
        "id": "P_dnyuw-Axjm"
      },
      "execution_count": 35,
      "outputs": []
    },
    {
      "cell_type": "code",
      "source": [
        "avg_A (200, 800)"
      ],
      "metadata": {
        "colab": {
          "base_uri": "https://localhost:8080/"
        },
        "id": "Zr5nFmq_EuUR",
        "outputId": "e04aba59-748b-4c59-edef-9b11363ffc73"
      },
      "execution_count": 36,
      "outputs": [
        {
          "output_type": "execute_result",
          "data": {
            "text/plain": [
              "500.0"
            ]
          },
          "metadata": {},
          "execution_count": 36
        }
      ]
    },
    {
      "cell_type": "markdown",
      "source": [
        "**Ответ:** среднее значение непрерывной СВ А = **500**"
      ],
      "metadata": {
        "id": "Ez2jfymuE_2M"
      }
    },
    {
      "cell_type": "code",
      "source": [
        "def variance(a, b):\n",
        "    d = (b - a)**2 / 12\n",
        "    return d"
      ],
      "metadata": {
        "id": "8mdWuomhFOZt"
      },
      "execution_count": 9,
      "outputs": []
    },
    {
      "cell_type": "code",
      "source": [
        "variance(200, 800)"
      ],
      "metadata": {
        "colab": {
          "base_uri": "https://localhost:8080/"
        },
        "id": "bd0ThxzuFZdW",
        "outputId": "6a32f21d-4f21-424f-dd36-fb92330fb8db"
      },
      "execution_count": 10,
      "outputs": [
        {
          "output_type": "execute_result",
          "data": {
            "text/plain": [
              "30000.0"
            ]
          },
          "metadata": {},
          "execution_count": 10
        }
      ]
    },
    {
      "cell_type": "markdown",
      "source": [
        "**Ответ:** дисперсия непрерывной СВ А = **30000**"
      ],
      "metadata": {
        "id": "KYFQi-B9FlMN"
      }
    },
    {
      "cell_type": "markdown",
      "source": [
        "**Задача №2.** О случайной непрерывной равномерно распределенной величине B известно, что ее дисперсия равна 0.2. Можно ли найти правую границу величины B и ее среднее значение зная, что левая граница равна 0.5? Если да, найдите ее."
      ],
      "metadata": {
        "id": "eQowcAnRAgBs"
      }
    },
    {
      "cell_type": "markdown",
      "source": [
        "Для определения правой границы непрерывной СВ В воспользуемся формулой нахождения дисперсии, и выведим из данной формулы формулу нахождения правой границы b.\n",
        "$$ D(X)=\\frac{(b-a)^2}{12} $$\n",
        "где:<br>  \n",
        "дисперсия D(X) = 0.2, <br>\n",
        "левая граница a = 0.5 <br>  \n",
        "Найдём b: <br>  \n",
        "$ 0.2=\\frac{(b-0.5)^2}{12} $  \n",
        "$ b=0.5+\\sqrt{2.4} $  \n",
        "\n"
      ],
      "metadata": {
        "id": "wBffJfOZIrir"
      }
    },
    {
      "cell_type": "code",
      "source": [
        "b = round((a + 2.4 ** (1/2)), 4)"
      ],
      "metadata": {
        "id": "VrvvBSLsLKGj"
      },
      "execution_count": 21,
      "outputs": []
    },
    {
      "cell_type": "code",
      "source": [
        "b"
      ],
      "metadata": {
        "colab": {
          "base_uri": "https://localhost:8080/"
        },
        "id": "qZOaOFMrMr_a",
        "outputId": "fdb401b2-e87c-4f55-c465-dbf6ab912795"
      },
      "execution_count": 22,
      "outputs": [
        {
          "output_type": "execute_result",
          "data": {
            "text/plain": [
              "2.0492"
            ]
          },
          "metadata": {},
          "execution_count": 22
        }
      ]
    },
    {
      "cell_type": "markdown",
      "source": [
        "**Ответ:** значение правой границы непрерывной СВ В **b= 2.0492**"
      ],
      "metadata": {
        "id": "jku3uqRCM9TQ"
      }
    },
    {
      "cell_type": "markdown",
      "source": [
        "\n",
        "Среднее значение непрерывной СВ В найдем по формуле нахождения математического ожидания:<br> $$ M(X)=\\frac{a+b}{2} $$"
      ],
      "metadata": {
        "id": "QdIfiTj1LKXK"
      }
    },
    {
      "cell_type": "code",
      "source": [
        "def avg_B (a, b):\n",
        "    avg_B = (a + b) / 2\n",
        "    return avg_B"
      ],
      "metadata": {
        "id": "uGKxFB3sAx7M"
      },
      "execution_count": 33,
      "outputs": []
    },
    {
      "cell_type": "code",
      "source": [
        "avg_B (0.5, 2.0492)"
      ],
      "metadata": {
        "colab": {
          "base_uri": "https://localhost:8080/"
        },
        "id": "29J9hipPOhCU",
        "outputId": "1ad67e1f-1ff4-4166-9330-6dfdbf52c8de"
      },
      "execution_count": 34,
      "outputs": [
        {
          "output_type": "execute_result",
          "data": {
            "text/plain": [
              "1.2746"
            ]
          },
          "metadata": {},
          "execution_count": 34
        }
      ]
    },
    {
      "cell_type": "markdown",
      "source": [
        "**Ответ:** среднее значение непрерывной СВ В **avg_B = 1.2746**"
      ],
      "metadata": {
        "id": "56SSITCUO3Mx"
      }
    },
    {
      "cell_type": "markdown",
      "source": [
        "**Задача №3.** Непрерывная случайная величина X распределена нормально и задана плотностью распределения: <br> $$f(x) = (1 / (4 * sqrt(2pi))) * exp((-(x+2)**2) / 32)$$\n",
        "Найдите:<br>\n",
        "а) M(X)<br>\n",
        "б) D(X)<br>\n",
        "в) std(X) (среднее квадратичное отклонение)"
      ],
      "metadata": {
        "id": "VK018vB4Aip0"
      }
    },
    {
      "cell_type": "markdown",
      "source": [
        "Для нахождения математического ожидания M(x), дисперсии D(x), среднего квадратичного отклонения std(X) воспользуемся общей формулой плотности нормального распределения:  \n",
        "$ f(x)=\\frac{1}{4*\\sqrt{2\\pi}}*e^{-\\frac{(x+2)^2}{32}} $  \n",
        "M(X) = a = -2  \n",
        "$ \\sigma=4 $  \n",
        "$ D(X)=\\sigma^2=16 $"
      ],
      "metadata": {
        "id": "Bae-2-_1P6L_"
      }
    },
    {
      "cell_type": "markdown",
      "source": [
        "**Ответ:**  \n",
        "M(X) = - 2  \n",
        "D(X) = 16  \n",
        "$ \\sigma=4 $"
      ],
      "metadata": {
        "id": "Apqnw2ngQDK7"
      }
    },
    {
      "cell_type": "markdown",
      "source": [
        "**Задача №4.** Рост взрослого населения города X имеет нормальное распределение.\n",
        "Причем, средний рост равен 174 см, а среднее квадратичное отклонение равно 8 см.\n",
        "\n",
        "Какова вероятность того, что случайным образом выбранный взрослый человек имеет рост: <br>\n",
        "а) больше 182 см <br>\n",
        "б) больше 190 см <br>\n",
        "в) от 166 см до 190 см <br>\n",
        "г) от 166 см до 182 см <br>\n",
        "д) от 158 см до 190 см <br>\n",
        "е) не выше 150 см или не ниже 190 см <br>\n",
        "ё) не выше 150 см или не ниже 198 см <br>\n",
        "ж) ниже 166 см."
      ],
      "metadata": {
        "id": "AFLDEg-uAkXq"
      }
    },
    {
      "cell_type": "markdown",
      "source": [
        "Воспользуемся формулой расчёта Z-значения:<br>\n",
        "$$ Z=\\frac{X-μ}{\\sigma}$$"
      ],
      "metadata": {
        "id": "CbAqg6EIfA2I"
      }
    },
    {
      "cell_type": "code",
      "source": [
        "mu = 174\n",
        "sigma = 8"
      ],
      "metadata": {
        "id": "mm1dqLgccWE0"
      },
      "execution_count": 47,
      "outputs": []
    },
    {
      "cell_type": "code",
      "source": [
        "def z(x):\n",
        "    z = (x - mu) / sigma\n",
        "    return z"
      ],
      "metadata": {
        "id": "8UXcvU4Sowku"
      },
      "execution_count": 48,
      "outputs": []
    },
    {
      "cell_type": "markdown",
      "source": [
        "Для расчёта вероятности будем использовать Z-таблицу"
      ],
      "metadata": {
        "id": "qIGSDGMrlOHh"
      }
    },
    {
      "cell_type": "markdown",
      "source": [
        "**а) Вероятность того, что случайным образом выбранный взрослый человек имеет рост: больше 182 см**"
      ],
      "metadata": {
        "id": "UnU5x44AlgON"
      }
    },
    {
      "cell_type": "code",
      "source": [
        "z_a = z(182)"
      ],
      "metadata": {
        "id": "e7Cq_o59lxET"
      },
      "execution_count": 58,
      "outputs": []
    },
    {
      "cell_type": "code",
      "source": [
        "z_a"
      ],
      "metadata": {
        "colab": {
          "base_uri": "https://localhost:8080/"
        },
        "id": "vrxYJE_-lxMO",
        "outputId": "b19a10ea-f824-4196-f0d1-333300285c4a"
      },
      "execution_count": 59,
      "outputs": [
        {
          "output_type": "execute_result",
          "data": {
            "text/plain": [
              "1.0"
            ]
          },
          "metadata": {},
          "execution_count": 59
        }
      ]
    },
    {
      "cell_type": "markdown",
      "source": [
        "По Z-таблице для z_a =1.0 вероятность **р = 0.84134**"
      ],
      "metadata": {
        "id": "7K_fKe80oUB7"
      }
    },
    {
      "cell_type": "code",
      "source": [
        " p = 0.84134"
      ],
      "metadata": {
        "id": "rjDv-3l4qk3T"
      },
      "execution_count": 62,
      "outputs": []
    },
    {
      "cell_type": "code",
      "source": [
        "p_a = round((1 - p), 5)"
      ],
      "metadata": {
        "id": "bLOFS31wp9jH"
      },
      "execution_count": 65,
      "outputs": []
    },
    {
      "cell_type": "code",
      "source": [
        "p_a"
      ],
      "metadata": {
        "colab": {
          "base_uri": "https://localhost:8080/"
        },
        "id": "on9m4F2wqwKr",
        "outputId": "5b082cd1-00f0-4031-9221-d5bfea924c16"
      },
      "execution_count": 66,
      "outputs": [
        {
          "output_type": "execute_result",
          "data": {
            "text/plain": [
              "0.15866"
            ]
          },
          "metadata": {},
          "execution_count": 66
        }
      ]
    },
    {
      "cell_type": "markdown",
      "source": [
        "**Ответ: р_a = 0.15866**"
      ],
      "metadata": {
        "id": "SZHRtkTsq9EK"
      }
    },
    {
      "cell_type": "markdown",
      "source": [
        "**б) Вероятность того, что случайным образом выбранный взрослый человек имеет рост: больше 190 см**"
      ],
      "metadata": {
        "id": "En6y9v5Ilx1V"
      }
    },
    {
      "cell_type": "code",
      "source": [
        "z_b = z(190)"
      ],
      "metadata": {
        "id": "m-Geqgzql938"
      },
      "execution_count": 51,
      "outputs": []
    },
    {
      "cell_type": "code",
      "source": [
        "z_b"
      ],
      "metadata": {
        "colab": {
          "base_uri": "https://localhost:8080/"
        },
        "id": "BqRLhC58l98D",
        "outputId": "29088931-a440-48a6-d64b-4d4dbd61edbf"
      },
      "execution_count": 52,
      "outputs": [
        {
          "output_type": "execute_result",
          "data": {
            "text/plain": [
              "2.0"
            ]
          },
          "metadata": {},
          "execution_count": 52
        }
      ]
    },
    {
      "cell_type": "markdown",
      "source": [
        "По Z-таблице для z_b =2.0 вероятность **р = 0.97725**"
      ],
      "metadata": {
        "id": "xbmtjpAdrLRB"
      }
    },
    {
      "cell_type": "code",
      "source": [
        "p = 0.97725"
      ],
      "metadata": {
        "id": "kLGgZCfnrV98"
      },
      "execution_count": 67,
      "outputs": []
    },
    {
      "cell_type": "code",
      "source": [
        "p_b = round((1 - p), 5)"
      ],
      "metadata": {
        "id": "Ie5ljkf0rZQi"
      },
      "execution_count": 68,
      "outputs": []
    },
    {
      "cell_type": "code",
      "source": [
        "p_b"
      ],
      "metadata": {
        "colab": {
          "base_uri": "https://localhost:8080/"
        },
        "id": "9gA1_FjprcCn",
        "outputId": "80f6ea8c-c25e-445b-a364-0cb9a7564a3e"
      },
      "execution_count": 69,
      "outputs": [
        {
          "output_type": "execute_result",
          "data": {
            "text/plain": [
              "0.02275"
            ]
          },
          "metadata": {},
          "execution_count": 69
        }
      ]
    },
    {
      "cell_type": "markdown",
      "source": [
        "**Ответ: р_b = 0.02275**"
      ],
      "metadata": {
        "id": "d7iGFdZ-pGuC"
      }
    },
    {
      "cell_type": "markdown",
      "source": [
        "**в) Вероятность того, что случайным образом выбранный взрослый человек имеет рост: от 166 см до 190 см**\n"
      ],
      "metadata": {
        "id": "18ckb96rl-c5"
      }
    },
    {
      "cell_type": "code",
      "source": [
        "z_1 = z(166)"
      ],
      "metadata": {
        "id": "0n3nL0n6mJoH"
      },
      "execution_count": 73,
      "outputs": []
    },
    {
      "cell_type": "code",
      "source": [
        "z_1"
      ],
      "metadata": {
        "colab": {
          "base_uri": "https://localhost:8080/"
        },
        "id": "HAGstBIdpwwv",
        "outputId": "edf16765-1eff-4c7d-b262-826f5651101a"
      },
      "execution_count": 74,
      "outputs": [
        {
          "output_type": "execute_result",
          "data": {
            "text/plain": [
              "-1.0"
            ]
          },
          "metadata": {},
          "execution_count": 74
        }
      ]
    },
    {
      "cell_type": "markdown",
      "source": [
        "По Z-таблице для z_1 = -1.0 вероятность **р1 = 0.15866**"
      ],
      "metadata": {
        "id": "7ZTV_R4OryrX"
      }
    },
    {
      "cell_type": "code",
      "source": [
        "p1= 0.15866"
      ],
      "metadata": {
        "id": "Ro_6PkuSsAFl"
      },
      "execution_count": 83,
      "outputs": []
    },
    {
      "cell_type": "code",
      "source": [
        "z_2 = z(190)"
      ],
      "metadata": {
        "id": "zB2T7Xd-s4H4"
      },
      "execution_count": 77,
      "outputs": []
    },
    {
      "cell_type": "code",
      "source": [
        "z_2"
      ],
      "metadata": {
        "colab": {
          "base_uri": "https://localhost:8080/"
        },
        "id": "4UfcWdY8sV6c",
        "outputId": "4a3daded-a30b-41c2-a2ee-8807dd78ec56"
      },
      "execution_count": 79,
      "outputs": [
        {
          "output_type": "execute_result",
          "data": {
            "text/plain": [
              "2.0"
            ]
          },
          "metadata": {},
          "execution_count": 79
        }
      ]
    },
    {
      "cell_type": "markdown",
      "source": [
        "По Z-таблице для z_2 =2.0 вероятность **р2 = 0.97725**"
      ],
      "metadata": {
        "id": "SMKYxmY6tS2Y"
      }
    },
    {
      "cell_type": "code",
      "source": [
        "p2 = 0.97725"
      ],
      "metadata": {
        "id": "vQWohp9gtgek"
      },
      "execution_count": 86,
      "outputs": []
    },
    {
      "cell_type": "code",
      "source": [
        "p_c = round((p2-p1), 5)"
      ],
      "metadata": {
        "id": "9DjgJD59sGkD"
      },
      "execution_count": 89,
      "outputs": []
    },
    {
      "cell_type": "code",
      "source": [
        "p_c"
      ],
      "metadata": {
        "colab": {
          "base_uri": "https://localhost:8080/"
        },
        "id": "nLKvB7titrfr",
        "outputId": "13f27acd-0c03-42bd-f3dc-60f9e477fbcd"
      },
      "execution_count": 90,
      "outputs": [
        {
          "output_type": "execute_result",
          "data": {
            "text/plain": [
              "0.81859"
            ]
          },
          "metadata": {},
          "execution_count": 90
        }
      ]
    },
    {
      "cell_type": "markdown",
      "source": [
        "**Ответ: р_c = 0.081859**"
      ],
      "metadata": {
        "id": "6vyVFYWuvI70"
      }
    },
    {
      "cell_type": "markdown",
      "source": [
        "**г) Вероятность того, что случайным образом выбранный взрослый человек имеет рост: от 166 см до 182 см**"
      ],
      "metadata": {
        "id": "ujumtGDFmKGH"
      }
    },
    {
      "cell_type": "code",
      "source": [
        "z_1 = z(166)"
      ],
      "metadata": {
        "id": "bjBGtVwCuFcf"
      },
      "execution_count": 100,
      "outputs": []
    },
    {
      "cell_type": "code",
      "source": [
        "z_1"
      ],
      "metadata": {
        "colab": {
          "base_uri": "https://localhost:8080/"
        },
        "outputId": "e64b2ac0-323f-4e86-e4e3-b79aed93553f",
        "id": "nzTbqxE3uFcp"
      },
      "execution_count": 101,
      "outputs": [
        {
          "output_type": "execute_result",
          "data": {
            "text/plain": [
              "-1.0"
            ]
          },
          "metadata": {},
          "execution_count": 101
        }
      ]
    },
    {
      "cell_type": "markdown",
      "source": [
        "По Z-таблице для z_1 = -1.0 вероятность **р1 = 0.15866**"
      ],
      "metadata": {
        "id": "xPXD_zixuFcp"
      }
    },
    {
      "cell_type": "code",
      "source": [
        "p1 = 0.15866"
      ],
      "metadata": {
        "id": "L5p0b7Lou2Wn"
      },
      "execution_count": 102,
      "outputs": []
    },
    {
      "cell_type": "markdown",
      "source": [
        "Значение p2 примем из выше приведенного решения в пункте а) **р2=0.84134**"
      ],
      "metadata": {
        "id": "Rmluppcxugbh"
      }
    },
    {
      "cell_type": "code",
      "source": [
        "p2 = 0.84134"
      ],
      "metadata": {
        "id": "wPVFWajAmaXN"
      },
      "execution_count": 103,
      "outputs": []
    },
    {
      "cell_type": "code",
      "source": [
        "p_d = round((p2-p1), 5)"
      ],
      "metadata": {
        "id": "DwhxsMB2maeM"
      },
      "execution_count": 104,
      "outputs": []
    },
    {
      "cell_type": "code",
      "source": [
        "p_d"
      ],
      "metadata": {
        "colab": {
          "base_uri": "https://localhost:8080/"
        },
        "id": "zcR-rGLCuW7X",
        "outputId": "81a750aa-5330-403d-b8e0-1a330e9ef5f5"
      },
      "execution_count": 105,
      "outputs": [
        {
          "output_type": "execute_result",
          "data": {
            "text/plain": [
              "0.68268"
            ]
          },
          "metadata": {},
          "execution_count": 105
        }
      ]
    },
    {
      "cell_type": "markdown",
      "source": [
        "**Ответ: р_d = 0.68268**"
      ],
      "metadata": {
        "id": "JidVnFr9wMjE"
      }
    },
    {
      "cell_type": "markdown",
      "source": [
        "**д) Вероятность того, что случайным образом выбранный взрослый человек имеет рост: от 158 см до 190 см**"
      ],
      "metadata": {
        "id": "Lmg2Y-9RmasU"
      }
    },
    {
      "cell_type": "code",
      "source": [
        "z_1 = z(158)"
      ],
      "metadata": {
        "id": "labm-g2swg22"
      },
      "execution_count": 106,
      "outputs": []
    },
    {
      "cell_type": "code",
      "source": [
        "z_1"
      ],
      "metadata": {
        "colab": {
          "base_uri": "https://localhost:8080/"
        },
        "outputId": "9b6ba362-5463-431e-e834-5c20596e22c5",
        "id": "J4mJvo-Twg3V"
      },
      "execution_count": 107,
      "outputs": [
        {
          "output_type": "execute_result",
          "data": {
            "text/plain": [
              "-2.0"
            ]
          },
          "metadata": {},
          "execution_count": 107
        }
      ]
    },
    {
      "cell_type": "markdown",
      "source": [
        "По Z-таблице для z_1 = -2.0 вероятность **р1 = 0.02275**"
      ],
      "metadata": {
        "id": "qI85DNGSwg3W"
      }
    },
    {
      "cell_type": "code",
      "source": [
        "p1 =0.02275"
      ],
      "metadata": {
        "id": "nfafkmnFwg3W"
      },
      "execution_count": 110,
      "outputs": []
    },
    {
      "cell_type": "markdown",
      "source": [
        "Значение p2 примем из выше приведенного решения в пункте в) **р2 = 0.97725**"
      ],
      "metadata": {
        "id": "rYee6PcNwg3X"
      }
    },
    {
      "cell_type": "code",
      "source": [
        "p2 = 0.97725"
      ],
      "metadata": {
        "id": "NtquKsC_wg3Y"
      },
      "execution_count": 111,
      "outputs": []
    },
    {
      "cell_type": "code",
      "source": [
        "p_e = round((p2-p1), 5)"
      ],
      "metadata": {
        "id": "4ZL1Oj6vwg3Y"
      },
      "execution_count": 112,
      "outputs": []
    },
    {
      "cell_type": "code",
      "source": [
        "p_e"
      ],
      "metadata": {
        "colab": {
          "base_uri": "https://localhost:8080/"
        },
        "outputId": "724f4911-ce3d-4c77-e029-0c4e246edaee",
        "id": "RznEamOEwg3Z"
      },
      "execution_count": 113,
      "outputs": [
        {
          "output_type": "execute_result",
          "data": {
            "text/plain": [
              "0.9545"
            ]
          },
          "metadata": {},
          "execution_count": 113
        }
      ]
    },
    {
      "cell_type": "markdown",
      "source": [
        "**Ответ: р_e = 0.9545**"
      ],
      "metadata": {
        "id": "DVpJSn65wg3a"
      }
    },
    {
      "cell_type": "markdown",
      "source": [
        "**е) Вероятность того, что случайным образом выбранный взрослый человек имеет рост: не выше 150 см или не ниже 190 см**"
      ],
      "metadata": {
        "id": "0yRhEU3qmf2w"
      }
    },
    {
      "cell_type": "code",
      "source": [
        "z_1 = z(150)"
      ],
      "metadata": {
        "id": "gb2ue2xPxwar"
      },
      "execution_count": 114,
      "outputs": []
    },
    {
      "cell_type": "code",
      "source": [
        "z_1"
      ],
      "metadata": {
        "colab": {
          "base_uri": "https://localhost:8080/"
        },
        "outputId": "897ce6a4-a568-4b1a-f42a-0354360af95e",
        "id": "4cGJlDf7xwa2"
      },
      "execution_count": 119,
      "outputs": [
        {
          "output_type": "execute_result",
          "data": {
            "text/plain": [
              "-3.0"
            ]
          },
          "metadata": {},
          "execution_count": 119
        }
      ]
    },
    {
      "cell_type": "markdown",
      "source": [
        "По Z-таблице для z_1 = -3.0 вероятность **р1 = 0.00135**"
      ],
      "metadata": {
        "id": "Ak5MRT3Ixwa3"
      }
    },
    {
      "cell_type": "code",
      "source": [
        "p1 = 0.00135"
      ],
      "metadata": {
        "id": "qwiDf0lSxwa3"
      },
      "execution_count": 120,
      "outputs": []
    },
    {
      "cell_type": "markdown",
      "source": [
        "Значение p2 примем из выше приведенного решения в пункте в) **р2 = 0.97725**"
      ],
      "metadata": {
        "id": "MSWCEJTbyA_y"
      }
    },
    {
      "cell_type": "code",
      "source": [
        "p2 = 0.97725"
      ],
      "metadata": {
        "id": "gpHO1rkJyBAF"
      },
      "execution_count": 121,
      "outputs": []
    },
    {
      "cell_type": "code",
      "source": [
        "p_f = round((p1+(1-p2)), 5)"
      ],
      "metadata": {
        "id": "8PJG2YRIyBAF"
      },
      "execution_count": 127,
      "outputs": []
    },
    {
      "cell_type": "code",
      "source": [
        "p_f"
      ],
      "metadata": {
        "colab": {
          "base_uri": "https://localhost:8080/"
        },
        "outputId": "6659fe2f-6cb7-4d7d-e056-05f99a6ff8ab",
        "id": "ImveB2b-yBAF"
      },
      "execution_count": 128,
      "outputs": [
        {
          "output_type": "execute_result",
          "data": {
            "text/plain": [
              "0.0241"
            ]
          },
          "metadata": {},
          "execution_count": 128
        }
      ]
    },
    {
      "cell_type": "markdown",
      "source": [
        "**Ответ: р_f = 0.0241**"
      ],
      "metadata": {
        "id": "K0P9gMV3yBAG"
      }
    },
    {
      "cell_type": "markdown",
      "source": [
        "**ё) Вероятность того, что случайным образом выбранный взрослый человек имеет рост: не выше 150 см или не ниже 198 см**"
      ],
      "metadata": {
        "id": "ahD4HZQjmf_O"
      }
    },
    {
      "cell_type": "code",
      "source": [
        "z_1 = z(150)"
      ],
      "metadata": {
        "id": "0D61KqWw0DKF"
      },
      "execution_count": 129,
      "outputs": []
    },
    {
      "cell_type": "code",
      "source": [
        "z_1"
      ],
      "metadata": {
        "colab": {
          "base_uri": "https://localhost:8080/"
        },
        "outputId": "2b066565-ab93-4af8-ce36-c3d6bb979786",
        "id": "AWs4gzvY0DKV"
      },
      "execution_count": 130,
      "outputs": [
        {
          "output_type": "execute_result",
          "data": {
            "text/plain": [
              "-3.0"
            ]
          },
          "metadata": {},
          "execution_count": 130
        }
      ]
    },
    {
      "cell_type": "markdown",
      "source": [
        "По Z-таблице для z_1 = -3.0 вероятность **р1 = 0.00135**"
      ],
      "metadata": {
        "id": "PbONtSj30DKW"
      }
    },
    {
      "cell_type": "code",
      "source": [
        "p1 = 0.00135"
      ],
      "metadata": {
        "id": "XpjVRQQt0DKW"
      },
      "execution_count": 131,
      "outputs": []
    },
    {
      "cell_type": "code",
      "source": [
        "z_2 = z(198)"
      ],
      "metadata": {
        "id": "zY6UoPWY0SvS"
      },
      "execution_count": 132,
      "outputs": []
    },
    {
      "cell_type": "code",
      "source": [
        "z_2"
      ],
      "metadata": {
        "colab": {
          "base_uri": "https://localhost:8080/"
        },
        "id": "bGAqQ2MA0XTU",
        "outputId": "cebdece0-5d22-4f7a-d936-91c921544e75"
      },
      "execution_count": 133,
      "outputs": [
        {
          "output_type": "execute_result",
          "data": {
            "text/plain": [
              "3.0"
            ]
          },
          "metadata": {},
          "execution_count": 133
        }
      ]
    },
    {
      "cell_type": "markdown",
      "source": [
        "По Z-таблице для z_2 = 3.0 вероятность **р2 = 0.99865**"
      ],
      "metadata": {
        "id": "9yl2oFQ90b1B"
      }
    },
    {
      "cell_type": "code",
      "source": [
        "p2 = 0.99865"
      ],
      "metadata": {
        "id": "Xfy2wj5v0JAQ"
      },
      "execution_count": 134,
      "outputs": []
    },
    {
      "cell_type": "code",
      "source": [
        "p_g = round((p1+(1-p2)), 5)"
      ],
      "metadata": {
        "id": "AoHL-Z4w0JAR"
      },
      "execution_count": 135,
      "outputs": []
    },
    {
      "cell_type": "code",
      "source": [
        "p_g"
      ],
      "metadata": {
        "colab": {
          "base_uri": "https://localhost:8080/"
        },
        "outputId": "0b3644e8-39f2-4dba-c9af-c8734cf41212",
        "id": "j2zQ2o6g0JAR"
      },
      "execution_count": 137,
      "outputs": [
        {
          "output_type": "execute_result",
          "data": {
            "text/plain": [
              "0.0027"
            ]
          },
          "metadata": {},
          "execution_count": 137
        }
      ]
    },
    {
      "cell_type": "markdown",
      "source": [
        "**Ответ: р_g = 0.0027**"
      ],
      "metadata": {
        "id": "5LEflnFg0JAS"
      }
    },
    {
      "cell_type": "markdown",
      "source": [
        "**ж) Вероятность того, что случайным образом выбранный взрослый человек имеет рост:  ниже 166 см**"
      ],
      "metadata": {
        "id": "k6M-5ewAmgKO"
      }
    },
    {
      "cell_type": "code",
      "source": [
        "z = z(166)"
      ],
      "metadata": {
        "id": "mNSWit2-1ACH"
      },
      "execution_count": 141,
      "outputs": []
    },
    {
      "cell_type": "code",
      "source": [
        "z"
      ],
      "metadata": {
        "colab": {
          "base_uri": "https://localhost:8080/"
        },
        "outputId": "c8c12d52-b82d-4d35-c0e9-235a403c9eb5",
        "id": "672LL2uX1ACR"
      },
      "execution_count": 142,
      "outputs": [
        {
          "output_type": "execute_result",
          "data": {
            "text/plain": [
              "-1.0"
            ]
          },
          "metadata": {},
          "execution_count": 142
        }
      ]
    },
    {
      "cell_type": "markdown",
      "source": [
        "По Z-таблице для z = -1.0 вероятность **p_h = 0.15866**"
      ],
      "metadata": {
        "id": "JNyClf501ACS"
      }
    },
    {
      "cell_type": "code",
      "source": [
        "p_h = 0.15866"
      ],
      "metadata": {
        "id": "HYqXv7PZ1ACS"
      },
      "execution_count": 140,
      "outputs": []
    },
    {
      "cell_type": "markdown",
      "source": [
        "**Ответ: р_h = 0.15866**"
      ],
      "metadata": {
        "id": "j-QKrk6M1gar"
      }
    },
    {
      "cell_type": "markdown",
      "source": [
        "**Задача №5.**  На сколько сигм (средних квадратичных отклонений) отклоняется рост человека, равный 190 см, от математического ожидания роста в популяции, в которой M(X) = 178 см и D(X) = 25 кв.см?"
      ],
      "metadata": {
        "id": "5nC2O-kSAl9y"
      }
    },
    {
      "cell_type": "markdown",
      "source": [
        "Для определения на сколько рост человека отклоняется от математического ожидания воспользуемся формулой расчёта Z-значения:<br>\n",
        "$ Z=\\frac{X-μ}{\\sigma}$"
      ],
      "metadata": {
        "id": "7TTJ5bd0Tigh"
      }
    },
    {
      "cell_type": "code",
      "source": [
        "z = (190 - 178)/(25 ** (1/2))"
      ],
      "metadata": {
        "id": "M4KhbT9bAzvw"
      },
      "execution_count": 37,
      "outputs": []
    },
    {
      "cell_type": "code",
      "source": [
        "z"
      ],
      "metadata": {
        "colab": {
          "base_uri": "https://localhost:8080/"
        },
        "id": "vjYi-Pl0U782",
        "outputId": "de82d982-7cb9-489b-f08c-a962f33d0b60"
      },
      "execution_count": 38,
      "outputs": [
        {
          "output_type": "execute_result",
          "data": {
            "text/plain": [
              "2.4"
            ]
          },
          "metadata": {},
          "execution_count": 38
        }
      ]
    },
    {
      "cell_type": "markdown",
      "source": [
        "**Ответ:** Рост человека отклоняется от математического ожидания на **2.4 сигм**"
      ],
      "metadata": {
        "id": "yEQo48WgVDl6"
      }
    }
  ]
}