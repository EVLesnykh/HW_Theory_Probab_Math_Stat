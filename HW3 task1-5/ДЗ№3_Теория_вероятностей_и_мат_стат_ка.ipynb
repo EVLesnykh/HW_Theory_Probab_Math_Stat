{
  "nbformat": 4,
  "nbformat_minor": 0,
  "metadata": {
    "colab": {
      "provenance": []
    },
    "kernelspec": {
      "name": "python3",
      "display_name": "Python 3"
    },
    "language_info": {
      "name": "python"
    }
  },
  "cells": [
    {
      "cell_type": "code",
      "source": [
        "import numpy as np\n",
        "from math import factorial"
      ],
      "metadata": {
        "id": "dPm6Jwk09tPj"
      },
      "execution_count": 24,
      "outputs": []
    },
    {
      "cell_type": "markdown",
      "source": [
        "**Задача №1.** Даны значения зарплат из выборки выпускников: 100, 80, 75, 77, 89, 33, 45, 25, 65, 17, 30, 24, 57, 55, 70, 75, 65, 84, 90, 150. Посчитать (желательно без использования статистических методов наподобие std, var, mean):\n",
        "- среднее арифметическое, <br>\n",
        "- среднее квадратичное отклонение, <br>\n",
        "- смещенную и несмещенную оценки дисперсий для данной выборки."
      ],
      "metadata": {
        "id": "JlluUj9j5H4i"
      }
    },
    {
      "cell_type": "markdown",
      "source": [
        "**1. Среднее арифметическое из выборки выпускников** <br>\n",
        "Определим по следующей формуле:\n",
        "$$ M(X) = \\frac{1}{n}\\sum_{i=1}^n x_i $$"
      ],
      "metadata": {
        "id": "YZ-vRO6n_n2M"
      }
    },
    {
      "cell_type": "code",
      "source": [
        "array= np.array([100, 80, 75, 77, 89, 33, 45, 25, 65, 17, 30, 24, 57, 55, 70, 75, 65, 84, 90, 150])"
      ],
      "metadata": {
        "id": "L8E3n9pW5YdN"
      },
      "execution_count": 2,
      "outputs": []
    },
    {
      "cell_type": "code",
      "source": [
        "avg_array = sum(array)/len(array)"
      ],
      "metadata": {
        "id": "Gs50oIsO_Z1s"
      },
      "execution_count": 3,
      "outputs": []
    },
    {
      "cell_type": "code",
      "source": [
        "avg_array"
      ],
      "metadata": {
        "colab": {
          "base_uri": "https://localhost:8080/"
        },
        "id": "1s2AbhxQ_jDz",
        "outputId": "7815a159-e010-49a3-ef07-93bb9458e962"
      },
      "execution_count": 4,
      "outputs": [
        {
          "output_type": "execute_result",
          "data": {
            "text/plain": [
              "65.3"
            ]
          },
          "metadata": {},
          "execution_count": 4
        }
      ]
    },
    {
      "cell_type": "markdown",
      "source": [
        "**Ответ**: 65.3"
      ],
      "metadata": {
        "id": "cQdTwaD7_34m"
      }
    },
    {
      "cell_type": "markdown",
      "source": [
        "**2. Среднее квадратичное отклонение для данной выборки**<br>\n",
        "Определим по следующей формуле:<br>\n",
        "$$ \\sigma = \\sqrt{\\frac{\\sum_{i=1}^n (x_i - \\bar{x})^2}{n}} $$"
      ],
      "metadata": {
        "id": "lP_n2okT__E8"
      }
    },
    {
      "cell_type": "code",
      "source": [
        "array_mean_square_deviation = round(np.sqrt(((array - avg_array) ** 2).sum() / len(array)), 2)"
      ],
      "metadata": {
        "id": "EZMhbuIuBBq5"
      },
      "execution_count": 18,
      "outputs": []
    },
    {
      "cell_type": "code",
      "source": [
        "array_mean_square_deviation"
      ],
      "metadata": {
        "colab": {
          "base_uri": "https://localhost:8080/"
        },
        "id": "Tz9a4qHuBnMY",
        "outputId": "8c77bd4d-05bf-49db-a8d1-b2171b521bdf"
      },
      "execution_count": 19,
      "outputs": [
        {
          "output_type": "execute_result",
          "data": {
            "text/plain": [
              "30.82"
            ]
          },
          "metadata": {},
          "execution_count": 19
        }
      ]
    },
    {
      "cell_type": "markdown",
      "source": [
        "**Ответ**: 30.82"
      ],
      "metadata": {
        "id": "WKAEk0sQDzum"
      }
    },
    {
      "cell_type": "markdown",
      "source": [
        "**3. Cмещенная и несмещенная оценка дисперсий для данной выборки**<br>\n",
        "Определим по следующим формулам:<br>\n",
        "смещенная дисперсия:\n",
        "$$ S^2 = \\frac{\\sum_{i=1}^{n} (x_i - \\bar{x})^2}{n} $$\n",
        "несмещенная дисперсия:  \n",
        "$$ S^2 = \\frac{\\sum_{i=1}^{n} (x_i - \\bar{x})^2}{n-1} $$"
      ],
      "metadata": {
        "id": "RHvMlBSCD7Eq"
      }
    },
    {
      "cell_type": "markdown",
      "source": [
        "**смещенная дисперсия:**"
      ],
      "metadata": {
        "id": "243lZp75K9mY"
      }
    },
    {
      "cell_type": "code",
      "source": [
        "array_mixed_variance = ((array - avg_array) ** 2).sum() / len(array)"
      ],
      "metadata": {
        "id": "4ijJ5ZAbFI8J"
      },
      "execution_count": 21,
      "outputs": []
    },
    {
      "cell_type": "code",
      "source": [
        "array_mixed_variance"
      ],
      "metadata": {
        "colab": {
          "base_uri": "https://localhost:8080/"
        },
        "id": "eeOKJNUPJanE",
        "outputId": "2301e332-10ee-4151-fe9b-ad4539988497"
      },
      "execution_count": 22,
      "outputs": [
        {
          "output_type": "execute_result",
          "data": {
            "text/plain": [
              "950.11"
            ]
          },
          "metadata": {},
          "execution_count": 22
        }
      ]
    },
    {
      "cell_type": "markdown",
      "source": [
        "**Ответ**: 950.11"
      ],
      "metadata": {
        "id": "4-BWwgnHJfSm"
      }
    },
    {
      "cell_type": "markdown",
      "source": [
        "**несмещенная дисперсия:**"
      ],
      "metadata": {
        "id": "SlttxtssLbu5"
      }
    },
    {
      "cell_type": "code",
      "source": [
        "array_unmixed_variance = round(((array - avg_array) ** 2).sum() / (len(array)-1), 2)"
      ],
      "metadata": {
        "id": "p-f8czyVFg5o"
      },
      "execution_count": 35,
      "outputs": []
    },
    {
      "cell_type": "code",
      "source": [
        "array_unmixed_variance"
      ],
      "metadata": {
        "colab": {
          "base_uri": "https://localhost:8080/"
        },
        "id": "PsUT5ON9JqQk",
        "outputId": "ecc0bb00-e1a6-4681-bd37-5fd14126590d"
      },
      "execution_count": 36,
      "outputs": [
        {
          "output_type": "execute_result",
          "data": {
            "text/plain": [
              "1000.12"
            ]
          },
          "metadata": {},
          "execution_count": 36
        }
      ]
    },
    {
      "cell_type": "markdown",
      "source": [
        "**Ответ**: 1000.12"
      ],
      "metadata": {
        "id": "TnmEXTBLKMjK"
      }
    },
    {
      "cell_type": "markdown",
      "source": [
        "**Задача №2.** В первом ящике находится 8 мячей, из которых 5 - белые. Во втором ящике - 12 мячей, из которых 5 белых. Из первого ящика вытаскивают случайным образом два мяча, из второго - 4. Какова вероятность того, что 3 мяча белые?"
      ],
      "metadata": {
        "id": "W9-1qNsO5dKW"
      }
    },
    {
      "cell_type": "markdown",
      "source": [
        "Cуществует 3 варианта развития событй:<br>\n",
        "1. из 1-ого ящика вытащили 2 белых мяча, а из 2-ого ящика — 1 белый и 3 не белых, <br>\n",
        "2. из 1-ого ящика вытащили 1 белый мяч и 1 не белый, а из 2-ого ящика — 2 белых и 2 не белых, <br>\n",
        "3. из 1-ого ящика вытащили 0 белых мячей, а из 2-ого ящика — 3 белых и 1 не белый.\n",
        "\n",
        "Вероятность развития события для каждого из вариантов определим по формуле полной вероятности:<br>\n",
        "$$P(A) = \\displaystyle\\sum_{i=1}^{n}P(H_i)P(A|_{H_i})$$\n",
        "\n",
        "Где вероятность события $A$, которая может произойти с одним из событий $H_i$, равна сумме парных произведений вероятностей каждого из этих событий на соответствующей им условной вероятности наступления события $A$"
      ],
      "metadata": {
        "id": "_f5TLNQU0ung"
      }
    },
    {
      "cell_type": "code",
      "source": [
        "def argument (n, k):\n",
        "  return int(factorial(n) / (factorial(k) * factorial(n - k)))"
      ],
      "metadata": {
        "id": "4-B283xe3AS1"
      },
      "execution_count": 33,
      "outputs": []
    },
    {
      "cell_type": "markdown",
      "source": [
        "**1 вариант:**\n",
        "\n",
        "$P_1 = \\dfrac{C_5^2}{C_8^2} \\cdot \\dfrac{C_5^1 \\cdot C_7^3}{C_{12}^4} \\ $"
      ],
      "metadata": {
        "id": "jvlmm0C6-kOD"
      }
    },
    {
      "cell_type": "code",
      "source": [
        "P1 = round((argument(5, 2)*argument(5, 1)*argument(7, 3))/(argument(8, 2)*argument(12, 4)), 4)"
      ],
      "metadata": {
        "id": "ilihinLxB46U"
      },
      "execution_count": 30,
      "outputs": []
    },
    {
      "cell_type": "code",
      "source": [
        "P1"
      ],
      "metadata": {
        "colab": {
          "base_uri": "https://localhost:8080/"
        },
        "id": "17bHZQAcCsxA",
        "outputId": "9152ba7b-3750-46c0-e0a8-c10868d03453"
      },
      "execution_count": 31,
      "outputs": [
        {
          "output_type": "execute_result",
          "data": {
            "text/plain": [
              "0.1263"
            ]
          },
          "metadata": {},
          "execution_count": 31
        }
      ]
    },
    {
      "cell_type": "markdown",
      "source": [
        "**2 вариант:** <br>\n",
        "$P_2 = \\dfrac{C_5^1 \\cdot C_3^1}{C_8^2} \\cdot \\dfrac{C_5^2 \\cdot C_7^2}{C_{12}^4} \\ $"
      ],
      "metadata": {
        "id": "zZ7fA90kC4Dz"
      }
    },
    {
      "cell_type": "code",
      "source": [
        "P2 = round((argument(5, 1)*argument(5, 2)*argument(7, 2)*argument(3, 1))/(argument(8, 2)*argument(12, 4)), 4)"
      ],
      "metadata": {
        "id": "M0F0Vj_4Eues"
      },
      "execution_count": 35,
      "outputs": []
    },
    {
      "cell_type": "code",
      "source": [
        "P2"
      ],
      "metadata": {
        "colab": {
          "base_uri": "https://localhost:8080/"
        },
        "id": "wKZACyz9FMDe",
        "outputId": "f22c0f71-b653-4bad-f7eb-7d2b18005397"
      },
      "execution_count": 36,
      "outputs": [
        {
          "output_type": "execute_result",
          "data": {
            "text/plain": [
              "0.2273"
            ]
          },
          "metadata": {},
          "execution_count": 36
        }
      ]
    },
    {
      "cell_type": "markdown",
      "source": [
        "**3 вариант:**\n",
        "$P_3 = \\dfrac{C_3^2}{C_8^2} \\cdot \\dfrac{C_5^3 \\cdot C_7^1}{C_{12}^4} \\ $"
      ],
      "metadata": {
        "id": "j9gFSUxrFTen"
      }
    },
    {
      "cell_type": "code",
      "source": [
        "P3 = round((argument(3, 2)*argument(5, 3)*argument(7, 1))/(argument(8, 2)*argument(12, 4)), 4)"
      ],
      "metadata": {
        "id": "CQika7QFFfhq"
      },
      "execution_count": 38,
      "outputs": []
    },
    {
      "cell_type": "code",
      "source": [
        "P3"
      ],
      "metadata": {
        "colab": {
          "base_uri": "https://localhost:8080/"
        },
        "id": "ZNcX8IGvFfpY",
        "outputId": "d53fa466-ab2b-476f-da17-d4456feaf95d"
      },
      "execution_count": 39,
      "outputs": [
        {
          "output_type": "execute_result",
          "data": {
            "text/plain": [
              "0.0152"
            ]
          },
          "metadata": {},
          "execution_count": 39
        }
      ]
    },
    {
      "cell_type": "markdown",
      "source": [
        "**Вероятность события (А) определим следующим образом:** <br>\n",
        "$P(А) = P1 + P2 + P3$"
      ],
      "metadata": {
        "id": "9suYAoswGEo8"
      }
    },
    {
      "cell_type": "code",
      "source": [
        "PA=P1+P2+P3"
      ],
      "metadata": {
        "id": "vtB6dEmMHCAs"
      },
      "execution_count": 40,
      "outputs": []
    },
    {
      "cell_type": "code",
      "source": [
        "PA"
      ],
      "metadata": {
        "colab": {
          "base_uri": "https://localhost:8080/"
        },
        "id": "Cen-GGBYHGET",
        "outputId": "69a39117-567d-438d-d504-a96e5be206fb"
      },
      "execution_count": 41,
      "outputs": [
        {
          "output_type": "execute_result",
          "data": {
            "text/plain": [
              "0.3688"
            ]
          },
          "metadata": {},
          "execution_count": 41
        }
      ]
    },
    {
      "cell_type": "markdown",
      "source": [
        "**Ответ:** Вероятность события А составляет: 0.3688"
      ],
      "metadata": {
        "id": "x7xDgUFNHIDT"
      }
    },
    {
      "cell_type": "markdown",
      "source": [
        "**Задача №3.** На соревновании по биатлону один из трех спортсменов стреляет и попадает в мишень. <br>\n",
        "Вероятность попадания для первого спортсмена равна 0.9, <br>\n",
        "для второго — 0.8, <br> для третьего — 0.6. <br>\n",
        "Найти вероятность того, что выстрел произведен: <br>\n",
        "a) первым спортсменом, <br>\n",
        "б) вторым спортсменом, <br>\n",
        "в) третьим спортсменом."
      ],
      "metadata": {
        "id": "N9Hfa3mu5kA2"
      }
    },
    {
      "cell_type": "markdown",
      "source": [
        "Вероятность того, что выстрел произведен первым спортсменом, вторым и третьим определим используя Теорему Байеса (формулу Байеса), так как событие (попадание в мишень) уже произошло:\n",
        "\n",
        "$P(B│A)=\\dfrac{P(A│B)*P(B)}{P(A)}$\n",
        "\n",
        "$A$ - попадание в мишень,<br>\n",
        "$B_i$ - стрелок (1й, 2й, 3й)\n",
        "\n",
        "$P(B_i|A) = \\dfrac{P(A|B_i) \\cdot P(B_i)}{P(A)}$\n",
        "\n",
        "Вероятности выстрела каждым спорстменом равны, так как выстрел один, а спортсменов три. <br>\n",
        "Вероятность будет равна P(B) = P(B1) = P(B2) = P(B3) = 1/3\n"
      ],
      "metadata": {
        "id": "XoDDkbwsMI0n"
      }
    },
    {
      "cell_type": "code",
      "source": [
        "P_B = 1/3\n"
      ],
      "metadata": {
        "id": "pj8RJBb2TcXo"
      },
      "execution_count": 42,
      "outputs": []
    },
    {
      "cell_type": "markdown",
      "source": [
        "Вероятность наступления события A:"
      ],
      "metadata": {
        "id": "nfcdaiMTUYSV"
      }
    },
    {
      "cell_type": "code",
      "source": [
        "P_A = round((P_B*0.9 + P_B*0.8 + P_B*0.6), 4)"
      ],
      "metadata": {
        "id": "8VLKEUr0UYah"
      },
      "execution_count": 45,
      "outputs": []
    },
    {
      "cell_type": "code",
      "source": [
        "P_A"
      ],
      "metadata": {
        "colab": {
          "base_uri": "https://localhost:8080/"
        },
        "id": "Fw5nlWHyUh1f",
        "outputId": "4c0ac3c9-c69f-4a02-dbfb-01e74a2cd414"
      },
      "execution_count": 46,
      "outputs": [
        {
          "output_type": "execute_result",
          "data": {
            "text/plain": [
              "0.7667"
            ]
          },
          "metadata": {},
          "execution_count": 46
        }
      ]
    },
    {
      "cell_type": "markdown",
      "source": [
        "**Определим вероятность того, что выстрел произведён одним из спортсменов**"
      ],
      "metadata": {
        "id": "xCxcQQZhU4sl"
      }
    },
    {
      "cell_type": "markdown",
      "source": [
        "**1-ый спортсмен**:"
      ],
      "metadata": {
        "id": "HNlaWUPYX-sL"
      }
    },
    {
      "cell_type": "code",
      "source": [
        "P1 = round((P_B * 0.9 /P_A), 4)"
      ],
      "metadata": {
        "id": "74QMFTsXVHX8"
      },
      "execution_count": 49,
      "outputs": []
    },
    {
      "cell_type": "code",
      "source": [
        "P1"
      ],
      "metadata": {
        "colab": {
          "base_uri": "https://localhost:8080/"
        },
        "id": "weQVIrbvVf0t",
        "outputId": "5aea4ffb-73e6-41f2-dc12-4e38cfc4a9a6"
      },
      "execution_count": 50,
      "outputs": [
        {
          "output_type": "execute_result",
          "data": {
            "text/plain": [
              "0.3913"
            ]
          },
          "metadata": {},
          "execution_count": 50
        }
      ]
    },
    {
      "cell_type": "markdown",
      "source": [
        "**Ответ:** 0.3913"
      ],
      "metadata": {
        "id": "QfQYJy3LZjnh"
      }
    },
    {
      "cell_type": "markdown",
      "source": [
        "**2-ой спортсмен**:"
      ],
      "metadata": {
        "id": "91oVx6n3YJWk"
      }
    },
    {
      "cell_type": "code",
      "source": [
        "P2 = round((P_B * 0.8 /P_A), 4)"
      ],
      "metadata": {
        "id": "P3JcLUzOVJkZ"
      },
      "execution_count": 51,
      "outputs": []
    },
    {
      "cell_type": "code",
      "source": [
        "P2"
      ],
      "metadata": {
        "colab": {
          "base_uri": "https://localhost:8080/"
        },
        "id": "W1M84A2MYWNL",
        "outputId": "c4592d5c-6199-4787-f083-fe293a9f1dc9"
      },
      "execution_count": 52,
      "outputs": [
        {
          "output_type": "execute_result",
          "data": {
            "text/plain": [
              "0.3478"
            ]
          },
          "metadata": {},
          "execution_count": 52
        }
      ]
    },
    {
      "cell_type": "markdown",
      "source": [
        "**Ответ:** 0.3478"
      ],
      "metadata": {
        "id": "g1DHaVm7Zrph"
      }
    },
    {
      "cell_type": "markdown",
      "source": [
        "**3-ий спортсмен**:"
      ],
      "metadata": {
        "id": "LpwiYGTaYRmJ"
      }
    },
    {
      "cell_type": "code",
      "source": [
        "P3 = round((P_B * 0.6 /P_A), 4)"
      ],
      "metadata": {
        "id": "SjHC-DuXYUXi"
      },
      "execution_count": 53,
      "outputs": []
    },
    {
      "cell_type": "code",
      "source": [
        "P3"
      ],
      "metadata": {
        "colab": {
          "base_uri": "https://localhost:8080/"
        },
        "id": "Xcd5sqzjYXM1",
        "outputId": "b1773813-e511-4e22-89e9-c280fc95951b"
      },
      "execution_count": 54,
      "outputs": [
        {
          "output_type": "execute_result",
          "data": {
            "text/plain": [
              "0.2609"
            ]
          },
          "metadata": {},
          "execution_count": 54
        }
      ]
    },
    {
      "cell_type": "markdown",
      "source": [
        "**Ответ:** 0.2609"
      ],
      "metadata": {
        "id": "Au2YbIKaZPlY"
      }
    },
    {
      "cell_type": "markdown",
      "source": [
        "**Проверка:**"
      ],
      "metadata": {
        "id": "jqsQX0hHkmm4"
      }
    },
    {
      "cell_type": "code",
      "source": [
        "P=P1+P2+P3"
      ],
      "metadata": {
        "id": "7gi6R4gNkqzR"
      },
      "execution_count": 71,
      "outputs": []
    },
    {
      "cell_type": "code",
      "source": [
        "P"
      ],
      "metadata": {
        "colab": {
          "base_uri": "https://localhost:8080/"
        },
        "id": "14xRIN4Pkvye",
        "outputId": "442501a8-f671-40ea-dc36-90a4a460c8b5"
      },
      "execution_count": 72,
      "outputs": [
        {
          "output_type": "execute_result",
          "data": {
            "text/plain": [
              "1.0"
            ]
          },
          "metadata": {},
          "execution_count": 72
        }
      ]
    },
    {
      "cell_type": "markdown",
      "source": [
        "**Задача №4.** В университет на факультеты A и B поступило равное количество студентов, а на факультет C студентов поступило столько же, сколько на A и B вместе. <br>\n",
        "Вероятность того, что студент факультета A сдаст первую сессию, равна 0.8.<br> Для студента факультета B эта вероятность равна 0.7, а для студента факультета C - 0.9. <br>\n",
        "Студент сдал первую сессию. Какова вероятность, что он учится: <br>\n",
        "a) на факультете A, <br>\n",
        "б) на факультете B, <br>\n",
        "в) на факультете C?"
      ],
      "metadata": {
        "id": "QfquawNx5sAi"
      }
    },
    {
      "cell_type": "markdown",
      "source": [
        "Для определения вероятности, что струдент учится на факультете А, В или С определим используя Теорему Байеса (формулу Байеса):\n",
        "\n",
        "$P(B│A)=\\dfrac{P(A│B)*P(B)}{P(A)}$\n",
        "\n",
        "$A$ - сдача сессии\n",
        "$B_i$ - факультет студента\n",
        "\n",
        "$P(B_i|A) = \\dfrac{P(A|B_i) \\cdot P(B_i)}{P(A)}$\n",
        "\n",
        "\n"
      ],
      "metadata": {
        "id": "0k0ZxM2cadLu"
      }
    },
    {
      "cell_type": "markdown",
      "source": [
        "Примем, что: <br>\n",
        "n - студентов учится на факультете A и В,  \n",
        "2 * n - студентов учится на факультете C,\n",
        "B1 - сессию сдал студент с факультета A  \n",
        "B2 - сессию сдал студент с факультета B  \n",
        "B3 - сессию сдал студент с факультета C  \n",
        "А - событие сессия сдана  \n",
        "События B1, B2, B3 образуют полную группу событий  \n",
        "P(B1) + P(B2) + P(B3) = 1  \n",
        "1/n  + 1/n + 1/2n = 1  \n",
        "n = 2.5  "
      ],
      "metadata": {
        "id": "UpEJ99aHccFd"
      }
    },
    {
      "cell_type": "code",
      "source": [
        "n=2.5"
      ],
      "metadata": {
        "id": "gfOe1lg1gACY"
      },
      "execution_count": 57,
      "outputs": []
    },
    {
      "cell_type": "markdown",
      "source": [
        "Вероятность наступления события A:"
      ],
      "metadata": {
        "id": "TXZugBX-fg6r"
      }
    },
    {
      "cell_type": "code",
      "source": [
        "P_A = round(((1/n)*0.8 + (1/n)*0.7 + (1/(2*n))*0.9), 4)"
      ],
      "metadata": {
        "id": "hTdwie2t5y0o"
      },
      "execution_count": 63,
      "outputs": []
    },
    {
      "cell_type": "code",
      "source": [
        "P_A"
      ],
      "metadata": {
        "colab": {
          "base_uri": "https://localhost:8080/"
        },
        "id": "Xmud1ru3gN6Z",
        "outputId": "6513d985-e634-4b05-eb64-841075514726"
      },
      "execution_count": 66,
      "outputs": [
        {
          "output_type": "execute_result",
          "data": {
            "text/plain": [
              "0.78"
            ]
          },
          "metadata": {},
          "execution_count": 66
        }
      ]
    },
    {
      "cell_type": "markdown",
      "source": [
        "**По формуле Байеса найдем вероятность того на каком факультете учится студент сдавший сессию**"
      ],
      "metadata": {
        "id": "oHx2q4kvhXHR"
      }
    },
    {
      "cell_type": "markdown",
      "source": [
        "**Факультет А**"
      ],
      "metadata": {
        "id": "vZGk15ffjXlG"
      }
    },
    {
      "cell_type": "code",
      "source": [
        " P_1= round(((1/n)*0.8/P_A), 4)"
      ],
      "metadata": {
        "id": "ssedvrUJjar3"
      },
      "execution_count": 69,
      "outputs": []
    },
    {
      "cell_type": "code",
      "source": [
        " P_1"
      ],
      "metadata": {
        "colab": {
          "base_uri": "https://localhost:8080/"
        },
        "id": "-s7bOemXkXj9",
        "outputId": "2e6e5db3-c8a9-4344-9042-b04e5433a250"
      },
      "execution_count": 70,
      "outputs": [
        {
          "output_type": "execute_result",
          "data": {
            "text/plain": [
              "0.4103"
            ]
          },
          "metadata": {},
          "execution_count": 70
        }
      ]
    },
    {
      "cell_type": "markdown",
      "source": [
        "**Ответ:** 0.4103"
      ],
      "metadata": {
        "id": "cdlw4H5Djh9a"
      }
    },
    {
      "cell_type": "markdown",
      "source": [
        "**Факультет В**"
      ],
      "metadata": {
        "id": "QCKEc9Qoja12"
      }
    },
    {
      "cell_type": "code",
      "source": [
        "P_2= round(((1/n)*0.7/P_A), 4)"
      ],
      "metadata": {
        "id": "RmR0DQgyje_7"
      },
      "execution_count": 73,
      "outputs": []
    },
    {
      "cell_type": "code",
      "source": [
        "P_2"
      ],
      "metadata": {
        "colab": {
          "base_uri": "https://localhost:8080/"
        },
        "id": "F4tV8Ia9k8SW",
        "outputId": "cfcad805-9208-47d3-b70d-613e926653a8"
      },
      "execution_count": 74,
      "outputs": [
        {
          "output_type": "execute_result",
          "data": {
            "text/plain": [
              "0.359"
            ]
          },
          "metadata": {},
          "execution_count": 74
        }
      ]
    },
    {
      "cell_type": "markdown",
      "source": [
        "**Ответ:** 0.359"
      ],
      "metadata": {
        "id": "swLBzyw1jmsb"
      }
    },
    {
      "cell_type": "markdown",
      "source": [
        "**Факультет С**"
      ],
      "metadata": {
        "id": "dvAqZyavjfKM"
      }
    },
    {
      "cell_type": "code",
      "source": [
        "P_3= round((((1/(2*n)))*0.9/P_A), 4)"
      ],
      "metadata": {
        "id": "QO7HoZkTjhXu"
      },
      "execution_count": 81,
      "outputs": []
    },
    {
      "cell_type": "code",
      "source": [
        "P_3"
      ],
      "metadata": {
        "colab": {
          "base_uri": "https://localhost:8080/"
        },
        "id": "_BSdKXw_lNOL",
        "outputId": "651c4327-2f8d-4710-ccb3-f3b133db412d"
      },
      "execution_count": 82,
      "outputs": [
        {
          "output_type": "execute_result",
          "data": {
            "text/plain": [
              "0.2308"
            ]
          },
          "metadata": {},
          "execution_count": 82
        }
      ]
    },
    {
      "cell_type": "markdown",
      "source": [
        "**Ответ:** 0.2308"
      ],
      "metadata": {
        "id": "2Z3Wx0zSjnr0"
      }
    },
    {
      "cell_type": "markdown",
      "source": [
        "**Проверка:**"
      ],
      "metadata": {
        "id": "WF9yC_3ylVsP"
      }
    },
    {
      "cell_type": "code",
      "source": [
        "P=round((P_1+P_2+P_3), 1)"
      ],
      "metadata": {
        "id": "Ja3mNNzQlWof"
      },
      "execution_count": 85,
      "outputs": []
    },
    {
      "cell_type": "code",
      "source": [
        "P"
      ],
      "metadata": {
        "colab": {
          "base_uri": "https://localhost:8080/"
        },
        "id": "XHFmYqr2la6d",
        "outputId": "5f3eb7f3-b814-44dd-e21b-860ebd52fcb2"
      },
      "execution_count": 86,
      "outputs": [
        {
          "output_type": "execute_result",
          "data": {
            "text/plain": [
              "1.0"
            ]
          },
          "metadata": {},
          "execution_count": 86
        }
      ]
    },
    {
      "cell_type": "markdown",
      "source": [
        "**Задача №5.** Устройство состоит из трех деталей. <br> Для первой детали вероятность выйти из строя в первый месяц равна 0.1, для второй - 0.2, для третьей - 0.25. <br> Какова вероятность того, что в первый месяц выйдут из строя:<br>\n",
        "а) все детали, <br>\n",
        "б) только две детали, <br>\n",
        "в) хотя бы одна деталь, <br>\n",
        "г) от одной до двух деталей?"
      ],
      "metadata": {
        "id": "NiT7vl5m5zNy"
      }
    },
    {
      "cell_type": "markdown",
      "source": [
        "**Определим вероятность того, что:**\n"
      ],
      "metadata": {
        "id": "ZSGrot4EmOwk"
      }
    },
    {
      "cell_type": "markdown",
      "source": [
        "**а) Из строя выходят все детали**\n"
      ],
      "metadata": {
        "id": "ZxB32DTDofUN"
      }
    },
    {
      "cell_type": "code",
      "execution_count": 90,
      "metadata": {
        "id": "S2-8IYCr8XTB"
      },
      "outputs": [],
      "source": [
        "P_1 = round(0.1 * 0.2 * 0.25, 4)"
      ]
    },
    {
      "cell_type": "code",
      "source": [
        "P_1"
      ],
      "metadata": {
        "colab": {
          "base_uri": "https://localhost:8080/"
        },
        "id": "_GvinUBMnJ-A",
        "outputId": "ffbc7df1-1a32-4ab4-d324-4fe47a9c583f"
      },
      "execution_count": 91,
      "outputs": [
        {
          "output_type": "execute_result",
          "data": {
            "text/plain": [
              "0.005"
            ]
          },
          "metadata": {},
          "execution_count": 91
        }
      ]
    },
    {
      "cell_type": "markdown",
      "source": [
        "**Ответ:** 0.005"
      ],
      "metadata": {
        "id": "ehduYKO5pRWo"
      }
    },
    {
      "cell_type": "markdown",
      "source": [
        "**б) Из строя выходят только две детали**\n"
      ],
      "metadata": {
        "id": "I7rm4R4inkeD"
      }
    },
    {
      "cell_type": "code",
      "source": [
        "P_2 = round((0.1 * 0.2 * 0.75 + 0.1 * 0.8 * 0.25 + 0.9 * 0.2 * 0.25), 4)\n"
      ],
      "metadata": {
        "id": "QpFcu5i8nWn4"
      },
      "execution_count": 92,
      "outputs": []
    },
    {
      "cell_type": "code",
      "source": [
        "P_2"
      ],
      "metadata": {
        "colab": {
          "base_uri": "https://localhost:8080/"
        },
        "id": "HKI92vtRngcb",
        "outputId": "57098add-9036-4205-8d9c-355be38335e7"
      },
      "execution_count": 93,
      "outputs": [
        {
          "output_type": "execute_result",
          "data": {
            "text/plain": [
              "0.08"
            ]
          },
          "metadata": {},
          "execution_count": 93
        }
      ]
    },
    {
      "cell_type": "markdown",
      "source": [
        "**Ответ:** 0.08"
      ],
      "metadata": {
        "id": "_PsnszHVpaRu"
      }
    },
    {
      "cell_type": "markdown",
      "source": [
        "**в) Из строя выходит хотя бы одна деталь**"
      ],
      "metadata": {
        "id": "bim-fh9ron3n"
      }
    },
    {
      "cell_type": "code",
      "source": [
        "P_3 = round((1 - 0.9 * 0.8 * 0.75), 4)"
      ],
      "metadata": {
        "id": "PUbaXki4nsfe"
      },
      "execution_count": 96,
      "outputs": []
    },
    {
      "cell_type": "code",
      "source": [
        "P_3"
      ],
      "metadata": {
        "colab": {
          "base_uri": "https://localhost:8080/"
        },
        "id": "8wwj61pjoHFH",
        "outputId": "d92ab052-f6a6-4d39-ccc2-b3ada3f8ad7d"
      },
      "execution_count": 97,
      "outputs": [
        {
          "output_type": "execute_result",
          "data": {
            "text/plain": [
              "0.46"
            ]
          },
          "metadata": {},
          "execution_count": 97
        }
      ]
    },
    {
      "cell_type": "markdown",
      "source": [
        "**Ответ:** 0.46"
      ],
      "metadata": {
        "id": "IPDi7UUnpce2"
      }
    },
    {
      "cell_type": "markdown",
      "source": [
        "**г) Из строя выходят от одной до двух деталей**\n"
      ],
      "metadata": {
        "id": "-1YyCmkaotw3"
      }
    },
    {
      "cell_type": "code",
      "source": [
        "P_4 = round((P_3 - P_1), 4)"
      ],
      "metadata": {
        "id": "sB5ALsQGnwdo"
      },
      "execution_count": 103,
      "outputs": []
    },
    {
      "cell_type": "code",
      "source": [
        "P_4"
      ],
      "metadata": {
        "colab": {
          "base_uri": "https://localhost:8080/"
        },
        "id": "y2A7BHZ4nyM3",
        "outputId": "c878d43d-02aa-4541-a83f-5561f5ebe492"
      },
      "execution_count": 104,
      "outputs": [
        {
          "output_type": "execute_result",
          "data": {
            "text/plain": [
              "0.455"
            ]
          },
          "metadata": {},
          "execution_count": 104
        }
      ]
    },
    {
      "cell_type": "markdown",
      "source": [
        "**Ответ:** 0.455"
      ],
      "metadata": {
        "id": "Mb_vxjDkpexM"
      }
    }
  ]
}