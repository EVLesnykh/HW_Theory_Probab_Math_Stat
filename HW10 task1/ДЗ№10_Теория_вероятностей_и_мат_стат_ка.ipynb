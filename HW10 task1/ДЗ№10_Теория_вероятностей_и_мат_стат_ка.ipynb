{
  "nbformat": 4,
  "nbformat_minor": 0,
  "metadata": {
    "colab": {
      "provenance": []
    },
    "kernelspec": {
      "name": "python3",
      "display_name": "Python 3"
    },
    "language_info": {
      "name": "python"
    }
  },
  "cells": [
    {
      "cell_type": "code",
      "execution_count": 17,
      "metadata": {
        "id": "Gj1j8l7uL8kc"
      },
      "outputs": [],
      "source": [
        "import scipy.stats as stats"
      ]
    },
    {
      "cell_type": "markdown",
      "source": [
        "**Задание.**<br>\n",
        "Провести дисперсионный анализ для определения того, есть ли различия среднего роста среди взрослых футболистов, хоккеистов и штангистов. Даны значения роста в трех группах случайно выбранных спортсменов: <br>\n",
        "Футболисты: 173, 175, 180, 178, 177, 185, 183, 182.<br>\n",
        "Хоккеисты: 177, 179, 180, 188, 177, 172, 171, 184, 180.<br>\n",
        "Штангисты: 172, 173, 169, 177, 166, 180, 178, 177, 172, 166, 170."
      ],
      "metadata": {
        "id": "XBLN8iZQMD2g"
      }
    },
    {
      "cell_type": "markdown",
      "source": [
        "Сформулируем нулевую гипотезу:\n",
        "H0:μ1=μ2=μ3 - средний рост спортсмена не зависит от вида спорта, которым он занимается(из представленных трех).\n",
        "Альтернативная гипотеза:\n",
        "H1:μ1≠μ2≠μ3  т.е. средний рост спортсмена зависит от выбранного им спорта."
      ],
      "metadata": {
        "id": "HEeIQpT9PLPq"
      }
    },
    {
      "cell_type": "code",
      "source": [
        "football=np.array([173, 175, 180, 178, 177, 185, 183, 182])\n",
        "hockey=np.array([177, 179, 180, 188, 177, 172, 171, 184, 180])\n",
        "weightlifting=np.array([172, 173, 169, 177, 166, 180, 178, 177, 172, 166, 170])\n",
        "alpha=0.05"
      ],
      "metadata": {
        "id": "KMGMaINDN0Xg"
      },
      "execution_count": 18,
      "outputs": []
    },
    {
      "cell_type": "markdown",
      "source": [
        "Воспользуемся встроенным методом однофакторного дисперсионного анализа библиотеки scipy:"
      ],
      "metadata": {
        "id": "xXX-QlSiSdm_"
      }
    },
    {
      "cell_type": "code",
      "source": [
        "stats.f_oneway(football, hockey, weightlifting)"
      ],
      "metadata": {
        "colab": {
          "base_uri": "https://localhost:8080/"
        },
        "id": "kiZten0xPd7K",
        "outputId": "e1394e2e-8fd1-4035-ed72-2efda36d893f"
      },
      "execution_count": 22,
      "outputs": [
        {
          "output_type": "execute_result",
          "data": {
            "text/plain": [
              "F_onewayResult(statistic=5.500053450812596, pvalue=0.010482206918698694)"
            ]
          },
          "metadata": {},
          "execution_count": 22
        }
      ]
    },
    {
      "cell_type": "markdown",
      "source": [
        "**Ответ:** Так как pvalue < α следовательно статистически значимые различия есть, Н0 гипотезу отвергаем"
      ],
      "metadata": {
        "id": "XSU4Y4yfP1pw"
      }
    }
  ]
}