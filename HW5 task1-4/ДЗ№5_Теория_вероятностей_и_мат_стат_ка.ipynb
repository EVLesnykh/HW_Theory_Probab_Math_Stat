{
  "nbformat": 4,
  "nbformat_minor": 0,
  "metadata": {
    "colab": {
      "provenance": []
    },
    "kernelspec": {
      "name": "python3",
      "display_name": "Python 3"
    },
    "language_info": {
      "name": "python"
    }
  },
  "cells": [
    {
      "cell_type": "code",
      "source": [
        "import numpy as np"
      ],
      "metadata": {
        "id": "K99_ZiM_zg9L"
      },
      "execution_count": 2,
      "outputs": []
    },
    {
      "cell_type": "code",
      "source": [
        "import scipy.stats as stats"
      ],
      "metadata": {
        "id": "5VROxIwBaQN6"
      },
      "execution_count": 3,
      "outputs": []
    },
    {
      "cell_type": "markdown",
      "source": [
        "**Задача №1.** Когда используется критерий Стьюдента, а когда Z –критерий?"
      ],
      "metadata": {
        "id": "rXItqxJ04PfS"
      }
    },
    {
      "cell_type": "markdown",
      "source": [
        "**Ответ:** <br>\n",
        "t-критерий (критерий Стьюдента) используется для проверки статистической гипотезы, когда $\\sigma$ генеральной совокупности неизвестна и размер выборки невелик.\n",
        "\n",
        "Z-критерий используется для проверки статистической гипотезы, когда известна $\\sigma$ генеральной совокупности и размер выборки велик.\n"
      ],
      "metadata": {
        "id": "bNykypvh5RfM"
      }
    },
    {
      "cell_type": "markdown",
      "source": [
        "**Задача №2.** Проведите тест гипотезы. Утверждается, что шарики для подшипников, изготовленные автоматическим станком, имеют средний диаметр 17 мм. Используя односторонний критерий с α=0,05, проверить эту гипотезу, если в выборке из n=100 шариков средний диаметр оказался равным 17.5 мм, а дисперсия известна и равна 4 кв. мм."
      ],
      "metadata": {
        "id": "fSfCa8_Y4Pl4"
      }
    },
    {
      "cell_type": "markdown",
      "source": [
        "Так как известна $\\sigma$ генеральной совокупности, то для проверки гипотезы будем использовать Z-критерий:"
      ],
      "metadata": {
        "id": "YTvlAyqtx-DO"
      }
    },
    {
      "cell_type": "markdown",
      "source": [
        "$Z = \\dfrac{X - μ}{\\sigma / \\sqrt{n}}$\n",
        "\n"
      ],
      "metadata": {
        "id": "PV5GDff5032f"
      }
    },
    {
      "cell_type": "markdown",
      "source": [
        "H<sub>0</sub>: μ = μ<sub>0</sub><br>\n",
        "H<sub>1</sub>: μ > μ<sub>0</sub>"
      ],
      "metadata": {
        "id": "i2BKxAjZx6dO"
      }
    },
    {
      "cell_type": "code",
      "source": [
        "X = 17.5\n",
        "mu = 17\n",
        "n = 100\n",
        "sigma = 2"
      ],
      "metadata": {
        "id": "8PJCXFqEyZPV"
      },
      "execution_count": 4,
      "outputs": []
    },
    {
      "cell_type": "markdown",
      "source": [
        "Опеределим Z-критерий:"
      ],
      "metadata": {
        "id": "55gW8rT7yTZ6"
      }
    },
    {
      "cell_type": "code",
      "source": [
        "Z = (X - mu) / (sigma / (n ** 0.5))\n"
      ],
      "metadata": {
        "id": "hnQoFVFg4pPk"
      },
      "execution_count": 5,
      "outputs": []
    },
    {
      "cell_type": "code",
      "source": [
        "Z"
      ],
      "metadata": {
        "colab": {
          "base_uri": "https://localhost:8080/"
        },
        "id": "i0jbsaNLz8gZ",
        "outputId": "f59cc1fb-c972-4bde-8cbc-15bd93d49edd"
      },
      "execution_count": 6,
      "outputs": [
        {
          "output_type": "execute_result",
          "data": {
            "text/plain": [
              "2.5"
            ]
          },
          "metadata": {},
          "execution_count": 6
        }
      ]
    },
    {
      "cell_type": "markdown",
      "source": [
        " По таблице Z-значений определим Z(табличное) с уровнем статистической значимости α = 0.05. Z<sub>табл.</sub> = 1,645."
      ],
      "metadata": {
        "id": "4dq0_ajn2FUa"
      }
    },
    {
      "cell_type": "markdown",
      "source": [
        "**Ответ:** Так как расчётное Z-значение больше табличного 2,5 > 1.645, значит\n",
        "принимаем гипотезу H1 и считаем, что диаметр подшипников равен 17,5 мм, а гипотеза H0 не верна при α = 0.05."
      ],
      "metadata": {
        "id": "fQkKoDT_2HrV"
      }
    },
    {
      "cell_type": "markdown",
      "source": [
        "**Задача №3.** Проведите тест гипотезы. Продавец утверждает, что средний вес пачки печенья составляет 200 г. Из партии извлечена выборка из 10 пачек. Вес каждой пачки составляет: 202, 203, 199, 197, 195, 201, 200, 204, 194, 190. Известно, что их веса распределены нормально. Верно ли утверждение продавца, если учитывать, что доверительная вероятность равна 99%? (Провести двусторонний тест.)"
      ],
      "metadata": {
        "id": "6Kp1J7rC4pj5"
      }
    },
    {
      "cell_type": "markdown",
      "source": [
        "Так как неизвестна $\\sigma$ генеральной совокупности, то для проверки гипотезы будем использовать t-критерий. Уровень значимости α = 1 - 0.99 = 0.01."
      ],
      "metadata": {
        "id": "xrGZHvp5Cd-L"
      }
    },
    {
      "cell_type": "markdown",
      "source": [
        "$t = \\dfrac{X - μ}{\\sigmaн / \\sqrt{n}}$\n"
      ],
      "metadata": {
        "id": "hbawCJIRYz8H"
      }
    },
    {
      "cell_type": "markdown",
      "source": [
        "H<sub>0</sub>: μ = μ<sub>0</sub><br>\n",
        "H<sub>1</sub>: μ ≠ μ<sub>0</sub>"
      ],
      "metadata": {
        "id": "0-lGmyUzCWCG"
      }
    },
    {
      "cell_type": "markdown",
      "source": [
        "Определим стандартное несмещенное отклонение:"
      ],
      "metadata": {
        "id": "DcMsKx15ZHXx"
      }
    },
    {
      "cell_type": "code",
      "source": [
        "array = np.array([202, 203, 199, 197, 195, 201, 200, 204, 194, 190])"
      ],
      "metadata": {
        "id": "x6zYIEsECklZ"
      },
      "execution_count": 7,
      "outputs": []
    },
    {
      "cell_type": "code",
      "source": [
        "sigma_std = round((np.std(array, ddof=1)), 2)\n"
      ],
      "metadata": {
        "id": "jh3Td02vnpzy"
      },
      "execution_count": 11,
      "outputs": []
    },
    {
      "cell_type": "code",
      "source": [
        "sigma_std"
      ],
      "metadata": {
        "colab": {
          "base_uri": "https://localhost:8080/"
        },
        "id": "8o4CqyFAcUqY",
        "outputId": "478ce43b-ba0d-41f2-cdcd-fe1461b88536"
      },
      "execution_count": 12,
      "outputs": [
        {
          "output_type": "execute_result",
          "data": {
            "text/plain": [
              "4.45"
            ]
          },
          "metadata": {},
          "execution_count": 12
        }
      ]
    },
    {
      "cell_type": "markdown",
      "source": [
        "Определим среднее значение выборки:"
      ],
      "metadata": {
        "id": "qwnQbpEuoIvk"
      }
    },
    {
      "cell_type": "code",
      "source": [
        "X = round((np.mean(array)), 2)"
      ],
      "metadata": {
        "id": "utMsOLAQoJxz"
      },
      "execution_count": 14,
      "outputs": []
    },
    {
      "cell_type": "code",
      "source": [
        "X"
      ],
      "metadata": {
        "colab": {
          "base_uri": "https://localhost:8080/"
        },
        "id": "MTSmJbW7oOSm",
        "outputId": "b4d800f3-5572-4c0c-9f99-a2bfafcfa2cf"
      },
      "execution_count": 15,
      "outputs": [
        {
          "output_type": "execute_result",
          "data": {
            "text/plain": [
              "198.5"
            ]
          },
          "metadata": {},
          "execution_count": 15
        }
      ]
    },
    {
      "cell_type": "code",
      "source": [
        "mu = 200\n",
        "n = 10\n",
        "sigma_std = 4.45\n",
        "X = 198.5\n"
      ],
      "metadata": {
        "id": "gi43N6uQCucL"
      },
      "execution_count": 17,
      "outputs": []
    },
    {
      "cell_type": "markdown",
      "source": [
        "Табличное значение t-критерия (при двустороннем тесте с каждой стороны по 0.5 процентов (0.005) (статистическая значимость равна 1 процент (0.01)) и количестве степеней свободы 9) будет равно 3.25 по правой стороне\n",
        "-3.25 по левой стороне"
      ],
      "metadata": {
        "id": "TK-CvdN1CoSy"
      }
    },
    {
      "cell_type": "markdown",
      "source": [
        "Определим t-критерий:"
      ],
      "metadata": {
        "id": "MH1nlys7Crlj"
      }
    },
    {
      "cell_type": "code",
      "source": [
        "t = round(((X - mu) / (sigma_std / (n ** 0.5))), 2)\n"
      ],
      "metadata": {
        "id": "9q4KdjaEduGC"
      },
      "execution_count": 20,
      "outputs": []
    },
    {
      "cell_type": "code",
      "source": [
        "t"
      ],
      "metadata": {
        "colab": {
          "base_uri": "https://localhost:8080/"
        },
        "id": "h6FeA_WbfuIH",
        "outputId": "24454dcf-7e63-4c3b-d73c-62a1b4ac1de2"
      },
      "execution_count": 21,
      "outputs": [
        {
          "output_type": "execute_result",
          "data": {
            "text/plain": [
              "-1.07"
            ]
          },
          "metadata": {},
          "execution_count": 21
        }
      ]
    },
    {
      "cell_type": "markdown",
      "source": [
        "**Ответ:** Так как расчетное значение t-критерия -1,07 попадает в диапазон между левым и правым табличными значениями t-критерия [-3.25, 3.25] значит верна нулевая гипотеза H0 верна и следовательно утверждение продавца, что средний вес пачки печенья составляет 200 г верно."
      ],
      "metadata": {
        "id": "T91znG7ICx9M"
      }
    },
    {
      "cell_type": "markdown",
      "source": [
        "**Задача №4.** Есть ли статистически значимые различия в росте дочерей? <br> Рост матерей 172, 177, 158, 170, 178,175, 164, 160, 169, 165. <br> Рост взрослых дочерей: 173, 175, 162, 174, 175, 168, 155, 170, 160."
      ],
      "metadata": {
        "id": "_1tpyVzu4yjg"
      }
    },
    {
      "cell_type": "code",
      "source": [
        "x = np.array([172, 177, 158, 170, 178,175, 164, 160, 169])\n",
        "y = np.array([173, 175, 162, 174, 175, 168, 155, 170, 160])\n"
      ],
      "metadata": {
        "id": "mXZpukyWDWOV"
      },
      "execution_count": null,
      "outputs": []
    },
    {
      "cell_type": "markdown",
      "source": [
        "Принимаем α = 0.05\n",
        "Используем двухвыборочную t-проверку"
      ],
      "metadata": {
        "id": "oxSTzs3Xi0oe"
      }
    },
    {
      "cell_type": "code",
      "source": [
        "stats.ttest_rel(x, y)"
      ],
      "metadata": {
        "colab": {
          "base_uri": "https://localhost:8080/"
        },
        "id": "MTlXMCUOiLKY",
        "outputId": "36ad57d3-695a-4c2b-88e6-9fc7fbe581e2"
      },
      "execution_count": null,
      "outputs": [
        {
          "output_type": "execute_result",
          "data": {
            "text/plain": [
              "TtestResult(statistic=0.559522990335608, pvalue=0.5911212354055175, df=8)"
            ]
          },
          "metadata": {},
          "execution_count": 32
        }
      ]
    },
    {
      "cell_type": "markdown",
      "source": [
        "**Ответ:** pvalue > α следовательно статистически значимых различий не обнаружено на уровне значимости α = 0.05"
      ],
      "metadata": {
        "id": "C21lPkRkDeCC"
      }
    }
  ]
}