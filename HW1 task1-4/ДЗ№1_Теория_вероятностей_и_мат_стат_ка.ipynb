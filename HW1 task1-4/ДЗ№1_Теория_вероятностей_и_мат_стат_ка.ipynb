{
  "nbformat": 4,
  "nbformat_minor": 0,
  "metadata": {
    "colab": {
      "provenance": []
    },
    "kernelspec": {
      "name": "python3",
      "display_name": "Python 3"
    },
    "language_info": {
      "name": "python"
    }
  },
  "cells": [
    {
      "cell_type": "code",
      "source": [
        "from math import factorial"
      ],
      "metadata": {
        "id": "xtUWlqrDXkJi"
      },
      "execution_count": 5,
      "outputs": []
    },
    {
      "cell_type": "markdown",
      "source": [
        "**Задача №1. Из колоды в 52 карты извлекаются случайным образом 4 карты.<br>\n",
        "a) Найти вероятность того, что все карты – крести. <br>\n",
        "б) Найти вероятность, что среди 4-х карт окажется хотя бы один туз.**"
      ],
      "metadata": {
        "id": "aPsyUIZuvnIA"
      }
    },
    {
      "cell_type": "markdown",
      "source": [
        "**а)** Вероятность того, что извлеченные 4 карты из колоды (52 карты) будут крести (событие А) определим по формуле: <br>\n",
        "$\\displaystyle P(A)=\\frac{m}{n}$, <br> где $m$ - число благоприятных исходов (наступления события А), <br> $n$ - общее число всех исходов."
      ],
      "metadata": {
        "id": "tj1NVT53g-62"
      }
    },
    {
      "cell_type": "markdown",
      "source": [
        "Определим какое количество вариантов (общее число исходов) есть, чтобы извлечь 4 карты из колоды, состоящей из 52 карт по следующей формуле комбинаторики (сочетание): <br>\n",
        "$\\displaystyle C^k_n=\\frac{n!}{k!(n-k)!}$"
      ],
      "metadata": {
        "id": "N65uiv1Sh8qh"
      }
    },
    {
      "cell_type": "code",
      "source": [
        "def cards (n, k):\n",
        "  return int(factorial(n) / (factorial(k) * factorial(n - k)))"
      ],
      "metadata": {
        "id": "BgNed2Nrjjoq"
      },
      "execution_count": 36,
      "outputs": []
    },
    {
      "cell_type": "code",
      "source": [
        "cards (52, 4)"
      ],
      "metadata": {
        "colab": {
          "base_uri": "https://localhost:8080/"
        },
        "id": "5y_M_bU8kFLU",
        "outputId": "ff0c36d1-7385-43bc-aea2-0541f6392c81"
      },
      "execution_count": 37,
      "outputs": [
        {
          "output_type": "execute_result",
          "data": {
            "text/plain": [
              "270725"
            ]
          },
          "metadata": {},
          "execution_count": 37
        }
      ]
    },
    {
      "cell_type": "code",
      "source": [
        "n=270725"
      ],
      "metadata": {
        "id": "bI8mrrIxko8X"
      },
      "execution_count": 38,
      "outputs": []
    },
    {
      "cell_type": "markdown",
      "source": [
        "Определим какое количество вариантов (благоприятных исходов) есть, чтобы извлечь из колоды 4 карты одной масти - крести, при том что в колоде по 13 карт каждой масти, определим по следующей формуле комбинаторики (сочетание):<br>\n",
        "$\\displaystyle C^k_n=\\frac{n!}{k!(n-k)!}$"
      ],
      "metadata": {
        "id": "6hYsJXGukrqH"
      }
    },
    {
      "cell_type": "code",
      "source": [
        "def cardClubs (n, k):\n",
        "  return int(factorial(n) / (factorial(k) * factorial(n - k)))"
      ],
      "metadata": {
        "id": "zsW-nR9Sl9DJ"
      },
      "execution_count": 22,
      "outputs": []
    },
    {
      "cell_type": "code",
      "source": [
        "cardClubs (13, 4)"
      ],
      "metadata": {
        "colab": {
          "base_uri": "https://localhost:8080/"
        },
        "id": "zzeil7gjmViN",
        "outputId": "52519ec0-d147-4e95-fedb-36041a7657a6"
      },
      "execution_count": 23,
      "outputs": [
        {
          "output_type": "execute_result",
          "data": {
            "text/plain": [
              "715"
            ]
          },
          "metadata": {},
          "execution_count": 23
        }
      ]
    },
    {
      "cell_type": "code",
      "source": [
        "m=715"
      ],
      "metadata": {
        "id": "gSh-bwavmhdE"
      },
      "execution_count": 24,
      "outputs": []
    },
    {
      "cell_type": "markdown",
      "source": [
        "Вероятность события А:"
      ],
      "metadata": {
        "id": "9ofMMNlnmrSp"
      }
    },
    {
      "cell_type": "code",
      "source": [
        "P = round((m/n), 4)"
      ],
      "metadata": {
        "id": "X06feZqUmsZQ"
      },
      "execution_count": 25,
      "outputs": []
    },
    {
      "cell_type": "code",
      "source": [
        "P"
      ],
      "metadata": {
        "colab": {
          "base_uri": "https://localhost:8080/"
        },
        "id": "uGjT9dRYm2AG",
        "outputId": "817061b8-5039-496a-b4ac-6019ad22a2cb"
      },
      "execution_count": 26,
      "outputs": [
        {
          "output_type": "execute_result",
          "data": {
            "text/plain": [
              "0.0026"
            ]
          },
          "metadata": {},
          "execution_count": 26
        }
      ]
    },
    {
      "cell_type": "markdown",
      "source": [
        "**Ответ:** Итого вероятность наступления события А, где извлеченные 4 карты из колоды (52 карты) будут крести составляет: <br>\n",
        " Р(А) = 0,0026 или 0,26 %"
      ],
      "metadata": {
        "id": "O37pZ4bum7wT"
      }
    },
    {
      "cell_type": "markdown",
      "source": [
        "**б)** Вероятность того, что среди извлеченных 4-х карт из колоды (52 карты) окажется хотя бы один туз (событие А) определим используя теорему сложения вероятностей, где сумма вероятностей противоположных событий равна 1.<br>\n",
        "$\\ P(A)+P(\\bar{A})=1$, где: <br>\n",
        "$\\ P(A)$ - вероятность события А,  когда среди извлеченных 4-х карт окажется хотя бы один туз; <br>\n",
        "$\\ P(\\bar{A})$ - вероятность события $(\\bar{A}) $,  когда среди извлеченных 4-х карт не окажется ни одного туза. <br>\n",
        "И следовательно определив вероятность события $(\\bar{A}) $, когда среди извлеченных 4-х карт не окажется ни одного туза можно легко найти вероятность события $\\ P(A)$ приведя формулу к виду:<br>\n",
        "$\\ P(A) = 1-P(\\bar{A})$\n",
        "\n"
      ],
      "metadata": {
        "id": "Y4ozwT5CrbsK"
      }
    },
    {
      "cell_type": "markdown",
      "source": [
        "Вероятность события $\\ P(\\bar{A})$ определим по формуле: <br>$\\displaystyle P(\\bar{A})=\\frac{m}{n} $, <br> где $m$ - число благоприятных исходов (наступления события $\\ \\bar{A}$), <br> $n$ - общее число всех исходов."
      ],
      "metadata": {
        "id": "UleMgLMy5XVe"
      }
    },
    {
      "cell_type": "markdown",
      "source": [
        "Определим какое количество вариантов (общее число исходов) есть, чтобы извлечь 4 карты из колоды, состоящей из 52 карт по следующей формуле комбинаторики (сочетание): <br>\n",
        "$\\displaystyle C^k_n=\\frac{n!}{k!(n-k)!}$"
      ],
      "metadata": {
        "id": "GOPjw9swsQUk"
      }
    },
    {
      "cell_type": "code",
      "source": [
        "def cards (n, k):\n",
        "  return int(factorial(n) / (factorial(k) * factorial(n - k)))"
      ],
      "metadata": {
        "id": "004sUg17sckn"
      },
      "execution_count": 39,
      "outputs": []
    },
    {
      "cell_type": "code",
      "source": [
        "cards (52, 4)"
      ],
      "metadata": {
        "colab": {
          "base_uri": "https://localhost:8080/"
        },
        "id": "Rhm4oPIcshUk",
        "outputId": "7864bf96-e1ba-48c5-af89-4b19f5cb56ad"
      },
      "execution_count": 40,
      "outputs": [
        {
          "output_type": "execute_result",
          "data": {
            "text/plain": [
              "270725"
            ]
          },
          "metadata": {},
          "execution_count": 40
        }
      ]
    },
    {
      "cell_type": "code",
      "source": [
        "n=270725"
      ],
      "metadata": {
        "id": "UncFvEu4sk7w"
      },
      "execution_count": 41,
      "outputs": []
    },
    {
      "cell_type": "markdown",
      "source": [
        "Число благоприятных исходов **m** наступления события $\\ \\bar{A}$, то есть число способов извлечь 4 карты из колоды без тузов (48 карт), определим по следующей формуле комбинаторики (сочетание):<br>\n",
        "$\\displaystyle C^k_n=\\frac{n!}{k!(n-k)!}$"
      ],
      "metadata": {
        "id": "N6Ia1yCi6bNv"
      }
    },
    {
      "cell_type": "code",
      "source": [
        "def cardsNoAce (n, k):\n",
        "  return int(factorial(n) / (factorial(k) * factorial(n - k)))"
      ],
      "metadata": {
        "id": "MXth71c97NtF"
      },
      "execution_count": 43,
      "outputs": []
    },
    {
      "cell_type": "code",
      "source": [
        "cardsNoAce (48, 4)"
      ],
      "metadata": {
        "colab": {
          "base_uri": "https://localhost:8080/"
        },
        "id": "xexMzx4I77xX",
        "outputId": "defb8c83-dce3-4397-afe4-814218b184a5"
      },
      "execution_count": 44,
      "outputs": [
        {
          "output_type": "execute_result",
          "data": {
            "text/plain": [
              "194580"
            ]
          },
          "metadata": {},
          "execution_count": 44
        }
      ]
    },
    {
      "cell_type": "code",
      "source": [
        "m=194580"
      ],
      "metadata": {
        "id": "9BymMAIq8BYH"
      },
      "execution_count": 45,
      "outputs": []
    },
    {
      "cell_type": "markdown",
      "source": [
        "Вероятность события $\\ P(\\bar{A})$:"
      ],
      "metadata": {
        "id": "_-hFnRAJ8ICz"
      }
    },
    {
      "cell_type": "code",
      "source": [
        "P0 = round((m/n), 4)"
      ],
      "metadata": {
        "id": "g5xNF5ma8LqR"
      },
      "execution_count": 48,
      "outputs": []
    },
    {
      "cell_type": "code",
      "source": [
        "P0"
      ],
      "metadata": {
        "colab": {
          "base_uri": "https://localhost:8080/"
        },
        "id": "VYa5NRV18Zi7",
        "outputId": "a5edb12d-44f7-42a0-9ebe-0773c9ab3ed5"
      },
      "execution_count": 49,
      "outputs": [
        {
          "output_type": "execute_result",
          "data": {
            "text/plain": [
              "0.7187"
            ]
          },
          "metadata": {},
          "execution_count": 49
        }
      ]
    },
    {
      "cell_type": "markdown",
      "source": [
        "Вероятность события $\\ P(A) $:"
      ],
      "metadata": {
        "id": "__zkx0898kXT"
      }
    },
    {
      "cell_type": "code",
      "source": [
        "P1=1-P0"
      ],
      "metadata": {
        "id": "bGuJyCsN85hB"
      },
      "execution_count": 50,
      "outputs": []
    },
    {
      "cell_type": "code",
      "source": [
        "P1"
      ],
      "metadata": {
        "colab": {
          "base_uri": "https://localhost:8080/"
        },
        "id": "HoTohbrK9EoU",
        "outputId": "2fdc74d3-350a-412f-f57b-f65ce37adc57"
      },
      "execution_count": 51,
      "outputs": [
        {
          "output_type": "execute_result",
          "data": {
            "text/plain": [
              "0.2813"
            ]
          },
          "metadata": {},
          "execution_count": 51
        }
      ]
    },
    {
      "cell_type": "markdown",
      "source": [
        "**Ответ:** Итого вероятность наступления события А, где среди извлеченных 4-х карт из колоды (52 карты) окажется хотя бы один туз (событие А) составляет: <br>\n",
        " Р(А) = 0,2813 или 28,13 %"
      ],
      "metadata": {
        "id": "vOclDGYd9KKA"
      }
    },
    {
      "cell_type": "markdown",
      "source": [
        "**Задача №2. На входной двери подъезда установлен кодовый замок, содержащий десять кнопок с цифрами от 0 до 9. Код содержит три цифры, которые нужно нажать одновременно. Какова вероятность того, что человек, не знающий код, откроет дверь с первой попытки?**"
      ],
      "metadata": {
        "id": "91q7S-3NwXHo"
      }
    },
    {
      "cell_type": "markdown",
      "source": [
        "Вероятность того, что человек не знающий код откроет дверь с первой попытки (событие А) определим по формуле: <br>\n",
        "$\\displaystyle P(A)=\\frac{m}{n}$, <br> где $m$ - число благоприятных исходов (наступления события А), <br> $n$ - общее число всех исходов."
      ],
      "metadata": {
        "id": "IiQMjeI-SKsb"
      }
    },
    {
      "cell_type": "code",
      "source": [
        "m=1"
      ],
      "metadata": {
        "id": "MKe9TbYISa9P"
      },
      "execution_count": 131,
      "outputs": []
    },
    {
      "cell_type": "markdown",
      "source": [
        "Общее число всех исходов события А определим по следующей формуле комбинаторики (сочетание), т.е. количество сочетаний 3 цифры из 10: <br>\n",
        "$\\displaystyle C^k_n=\\frac{n!}{k!(n-k)!}$"
      ],
      "metadata": {
        "id": "48z5I_iYSiHv"
      }
    },
    {
      "cell_type": "code",
      "source": [
        "def number (n, k):\n",
        "    return int(factorial(n) / (factorial(k) * factorial(n - k)))"
      ],
      "metadata": {
        "id": "u8kykAyZS69I"
      },
      "execution_count": 141,
      "outputs": []
    },
    {
      "cell_type": "code",
      "source": [
        "number (10, 3)"
      ],
      "metadata": {
        "colab": {
          "base_uri": "https://localhost:8080/"
        },
        "id": "XAl99rqHS9cn",
        "outputId": "c695ccab-e2ad-4939-8f81-096effacf77e"
      },
      "execution_count": 142,
      "outputs": [
        {
          "output_type": "execute_result",
          "data": {
            "text/plain": [
              "120"
            ]
          },
          "metadata": {},
          "execution_count": 142
        }
      ]
    },
    {
      "cell_type": "code",
      "source": [
        "n=120"
      ],
      "metadata": {
        "id": "YNXwe0kkTRLt"
      },
      "execution_count": 134,
      "outputs": []
    },
    {
      "cell_type": "markdown",
      "source": [
        "Вероятность события А:"
      ],
      "metadata": {
        "id": "WaWd26mxTYXS"
      }
    },
    {
      "cell_type": "code",
      "source": [
        "P = round((m/n), 4)"
      ],
      "metadata": {
        "id": "SqvxaQddTcwZ"
      },
      "execution_count": 135,
      "outputs": []
    },
    {
      "cell_type": "code",
      "source": [
        "P"
      ],
      "metadata": {
        "colab": {
          "base_uri": "https://localhost:8080/"
        },
        "id": "kHhvse9mTfPk",
        "outputId": "cc584f61-deb7-42ab-acc1-a8ac2e21e09e"
      },
      "execution_count": 136,
      "outputs": [
        {
          "output_type": "execute_result",
          "data": {
            "text/plain": [
              "0.0083"
            ]
          },
          "metadata": {},
          "execution_count": 136
        }
      ]
    },
    {
      "cell_type": "markdown",
      "source": [
        "Итого вероятность наступления события А, где человек не знающий код откроет дверь с первой попытки составляет: <br>\n",
        " Р(А) = 0,0083 или 0,83 %"
      ],
      "metadata": {
        "id": "CvC7tRKJVTq-"
      }
    },
    {
      "cell_type": "markdown",
      "source": [
        "**Задача №3. В ящике имеется 15 деталей, из которых 9 окрашены. Рабочий случайным образом извлекает 3 детали. Какова вероятность того, что все извлеченные детали окрашены?**"
      ],
      "metadata": {
        "id": "xT3VAJPewiDV"
      }
    },
    {
      "cell_type": "markdown",
      "source": [
        "Вероятность того, что 3 извлеченных детали из ящика окажутся окрашенными (событие А) определим по формуле: <br>\n",
        "$\\displaystyle P(A)=\\frac{m}{n}$, <br> где $m$ - число благоприятных исходов (наступления события А), <br> $n$ - общее число всех исходов."
      ],
      "metadata": {
        "id": "DB8GAIFqHxX8"
      }
    },
    {
      "cell_type": "markdown",
      "source": [
        "Определим какое количество вариантов (общее число исходов) есть, чтобы взять 3 детали из ящика с 15 деталями по следующей формуле комбинаторики (сочетание): <br>\n",
        "$\\displaystyle C^k_n=\\frac{n!}{k!(n-k)!}$"
      ],
      "metadata": {
        "id": "7C4fi4iZHlYY"
      }
    },
    {
      "cell_type": "code",
      "source": [
        "def element (n, k):\n",
        "  return int(factorial(n) / (factorial(k) * factorial(n - k)))"
      ],
      "metadata": {
        "id": "aUII3hlBJkh_"
      },
      "execution_count": 8,
      "outputs": []
    },
    {
      "cell_type": "code",
      "source": [
        "element (15,3)"
      ],
      "metadata": {
        "colab": {
          "base_uri": "https://localhost:8080/"
        },
        "id": "131rlMFuJzDK",
        "outputId": "9869db73-e2d8-4454-9841-bbcaa4fc06ae"
      },
      "execution_count": 9,
      "outputs": [
        {
          "output_type": "execute_result",
          "data": {
            "text/plain": [
              "455"
            ]
          },
          "metadata": {},
          "execution_count": 9
        }
      ]
    },
    {
      "cell_type": "code",
      "source": [
        "n=455"
      ],
      "metadata": {
        "id": "_rFl2zI4MwPF"
      },
      "execution_count": 153,
      "outputs": []
    },
    {
      "cell_type": "markdown",
      "source": [
        "Определим какое количество вариантов (благоприятных исходов) есть, чтобы взять 3 окрашенных детали из 9 окрашенных деталей из ящика, определим по следующей формуле комбинаторики (сочетание):<br>\n",
        "$\\displaystyle C^k_n=\\frac{n!}{k!(n-k)!}$"
      ],
      "metadata": {
        "id": "veaxF0UZKBPz"
      }
    },
    {
      "cell_type": "code",
      "source": [
        "def elementPainted (n, k):\n",
        "    return int(factorial(n) / (factorial(k) * factorial(n - k)))"
      ],
      "metadata": {
        "id": "OVoX_2fxLqQV"
      },
      "execution_count": 154,
      "outputs": []
    },
    {
      "cell_type": "code",
      "source": [
        "elementPainted (9,3)"
      ],
      "metadata": {
        "colab": {
          "base_uri": "https://localhost:8080/"
        },
        "id": "bRtD3X0WL-Wz",
        "outputId": "e911a16f-a0cd-4ac9-e64b-ba05fb9011b9"
      },
      "execution_count": 155,
      "outputs": [
        {
          "output_type": "execute_result",
          "data": {
            "text/plain": [
              "84"
            ]
          },
          "metadata": {},
          "execution_count": 155
        }
      ]
    },
    {
      "cell_type": "code",
      "source": [
        "m=84"
      ],
      "metadata": {
        "id": "M2K8EurMMyhQ"
      },
      "execution_count": 156,
      "outputs": []
    },
    {
      "cell_type": "markdown",
      "source": [
        "Вероятность события А:"
      ],
      "metadata": {
        "id": "z_xb9qaAMgCQ"
      }
    },
    {
      "cell_type": "code",
      "source": [
        "P = round((m/n), 4)"
      ],
      "metadata": {
        "id": "QwDxHk12MoNa"
      },
      "execution_count": 157,
      "outputs": []
    },
    {
      "cell_type": "code",
      "source": [
        "P"
      ],
      "metadata": {
        "colab": {
          "base_uri": "https://localhost:8080/"
        },
        "id": "IKJMUmAhMpig",
        "outputId": "37e415bf-7ad6-42c1-82cd-499043b2e14f"
      },
      "execution_count": 158,
      "outputs": [
        {
          "output_type": "execute_result",
          "data": {
            "text/plain": [
              "0.1846"
            ]
          },
          "metadata": {},
          "execution_count": 158
        }
      ]
    },
    {
      "cell_type": "markdown",
      "source": [
        "Итого вероятность наступления события А, где 3 извлеченных детали из ящика окажутся окрашенными составляет: <br>\n",
        " Р(А) = 0,1846 или 18,46 %"
      ],
      "metadata": {
        "id": "u2lNv2J9Oomg"
      }
    },
    {
      "cell_type": "markdown",
      "source": [
        "**Задача №4. В лотерее 100 билетов. Из них 2 выигрышных. Какова вероятность того, что 2 приобретенных билета окажутся выигрышными?**"
      ],
      "metadata": {
        "id": "AD3TgyCRwpbn"
      }
    },
    {
      "cell_type": "markdown",
      "source": [
        "Вероятность того, что 2 приобретенных билета окажутся выигрышными (событие А) определим по формуле: <br>\n",
        "$\\displaystyle P(A)=\\frac{m}{n}$, <br> где $m$ - число благоприятных исходов (наступления события А), <br> $n$ - общее число всех исходов."
      ],
      "metadata": {
        "id": "bMukBqB412IS"
      }
    },
    {
      "cell_type": "code",
      "source": [
        "m=2"
      ],
      "metadata": {
        "id": "U_124J-N3A2c"
      },
      "execution_count": 159,
      "outputs": []
    },
    {
      "cell_type": "markdown",
      "source": [
        "Общее число всех исходов события А определим по следующей формуле комбинаторики (сочетание), т.е. количество сочетаний 2 билета из 100: <br>\n",
        "$\\displaystyle C^k_n=\\frac{n!}{k!(n-k)!}$"
      ],
      "metadata": {
        "id": "SqecVJoMzzlI"
      }
    },
    {
      "cell_type": "code",
      "source": [
        "def tickets (n, k):\n",
        "  return int(factorial(n) / (factorial(k) * factorial(n - k)))"
      ],
      "metadata": {
        "id": "nqTF-UQbySFP"
      },
      "execution_count": 160,
      "outputs": []
    },
    {
      "cell_type": "code",
      "source": [
        "tickets(100, 2)"
      ],
      "metadata": {
        "colab": {
          "base_uri": "https://localhost:8080/"
        },
        "id": "hHuAG2z8ydjw",
        "outputId": "d5b7c796-b92a-44fa-e731-b2d5a8ca4daf"
      },
      "execution_count": 167,
      "outputs": [
        {
          "output_type": "execute_result",
          "data": {
            "text/plain": [
              "4950"
            ]
          },
          "metadata": {},
          "execution_count": 167
        }
      ]
    },
    {
      "cell_type": "code",
      "source": [
        "n=4950"
      ],
      "metadata": {
        "id": "WGkToa_c3e0O"
      },
      "execution_count": 164,
      "outputs": []
    },
    {
      "cell_type": "markdown",
      "source": [
        "Вероятность события А:"
      ],
      "metadata": {
        "id": "yfV_Pf9u9Vtr"
      }
    },
    {
      "cell_type": "code",
      "source": [
        "P=round((m/n), 4)"
      ],
      "metadata": {
        "id": "u_45TCkZ3nTF"
      },
      "execution_count": 165,
      "outputs": []
    },
    {
      "cell_type": "code",
      "source": [
        "P"
      ],
      "metadata": {
        "colab": {
          "base_uri": "https://localhost:8080/"
        },
        "id": "SApSwEGo31Zp",
        "outputId": "54c7f7ce-05d6-453d-dfde-da1e82cd5a6a"
      },
      "execution_count": 166,
      "outputs": [
        {
          "output_type": "execute_result",
          "data": {
            "text/plain": [
              "0.0002"
            ]
          },
          "metadata": {},
          "execution_count": 166
        }
      ]
    },
    {
      "cell_type": "markdown",
      "source": [
        "Итого вероятность наступления события А, где 2 приобретенных билета оказываются выигрышными составляет: <br>\n",
        " Р(А) = 0,0002 или 0,02 %"
      ],
      "metadata": {
        "id": "BnVWJR0e4OoB"
      }
    }
  ]
}